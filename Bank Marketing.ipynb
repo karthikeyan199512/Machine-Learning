{
 "cells": [
  {
   "cell_type": "markdown",
   "metadata": {},
   "source": [
    "## Data Set Information:\n",
    "\n",
    "The data is related with direct marketing campaigns of a Portuguese banking institution. The marketing campaigns were based on phone calls. Often, more than one contact to the same client was required, in order to access if the product (bank term deposit) would be ('yes') or not ('no') subscribed.\n",
    "\n",
    "The classification goal is to predict if the client will subscribe (yes/no) a term deposit (variable y)."
   ]
  },
  {
   "cell_type": "code",
   "execution_count": 1,
   "metadata": {},
   "outputs": [],
   "source": [
    "import numpy as np\n",
    "import pandas as pd\n",
    "import matplotlib.pyplot as plt\n",
    "import seaborn as sns"
   ]
  },
  {
   "cell_type": "code",
   "execution_count": 2,
   "metadata": {},
   "outputs": [
    {
     "data": {
      "text/html": [
       "<div>\n",
       "<style scoped>\n",
       "    .dataframe tbody tr th:only-of-type {\n",
       "        vertical-align: middle;\n",
       "    }\n",
       "\n",
       "    .dataframe tbody tr th {\n",
       "        vertical-align: top;\n",
       "    }\n",
       "\n",
       "    .dataframe thead th {\n",
       "        text-align: right;\n",
       "    }\n",
       "</style>\n",
       "<table border=\"1\" class=\"dataframe\">\n",
       "  <thead>\n",
       "    <tr style=\"text-align: right;\">\n",
       "      <th></th>\n",
       "      <th>custAge</th>\n",
       "      <th>profession</th>\n",
       "      <th>marital</th>\n",
       "      <th>schooling</th>\n",
       "      <th>default</th>\n",
       "      <th>housing</th>\n",
       "      <th>loan</th>\n",
       "      <th>contact</th>\n",
       "      <th>month</th>\n",
       "      <th>day_of_week</th>\n",
       "      <th>...</th>\n",
       "      <th>previous</th>\n",
       "      <th>poutcome</th>\n",
       "      <th>emp.var.rate</th>\n",
       "      <th>cons.price.idx</th>\n",
       "      <th>cons.conf.idx</th>\n",
       "      <th>euribor3m</th>\n",
       "      <th>nr.employed</th>\n",
       "      <th>pmonths</th>\n",
       "      <th>pastEmail</th>\n",
       "      <th>responded</th>\n",
       "    </tr>\n",
       "  </thead>\n",
       "  <tbody>\n",
       "    <tr>\n",
       "      <td>0</td>\n",
       "      <td>55.0</td>\n",
       "      <td>admin.</td>\n",
       "      <td>single</td>\n",
       "      <td>university.degree</td>\n",
       "      <td>unknown</td>\n",
       "      <td>no</td>\n",
       "      <td>no</td>\n",
       "      <td>cellular</td>\n",
       "      <td>nov</td>\n",
       "      <td>mon</td>\n",
       "      <td>...</td>\n",
       "      <td>0</td>\n",
       "      <td>nonexistent</td>\n",
       "      <td>-0.1</td>\n",
       "      <td>93.200</td>\n",
       "      <td>-42.0</td>\n",
       "      <td>4.191</td>\n",
       "      <td>5195.8</td>\n",
       "      <td>999.0</td>\n",
       "      <td>0</td>\n",
       "      <td>no</td>\n",
       "    </tr>\n",
       "    <tr>\n",
       "      <td>1</td>\n",
       "      <td>NaN</td>\n",
       "      <td>blue-collar</td>\n",
       "      <td>married</td>\n",
       "      <td>NaN</td>\n",
       "      <td>no</td>\n",
       "      <td>no</td>\n",
       "      <td>no</td>\n",
       "      <td>cellular</td>\n",
       "      <td>jul</td>\n",
       "      <td>mon</td>\n",
       "      <td>...</td>\n",
       "      <td>0</td>\n",
       "      <td>nonexistent</td>\n",
       "      <td>1.4</td>\n",
       "      <td>93.918</td>\n",
       "      <td>-42.7</td>\n",
       "      <td>4.960</td>\n",
       "      <td>5228.1</td>\n",
       "      <td>999.0</td>\n",
       "      <td>0</td>\n",
       "      <td>no</td>\n",
       "    </tr>\n",
       "    <tr>\n",
       "      <td>2</td>\n",
       "      <td>42.0</td>\n",
       "      <td>technician</td>\n",
       "      <td>married</td>\n",
       "      <td>high.school</td>\n",
       "      <td>no</td>\n",
       "      <td>no</td>\n",
       "      <td>no</td>\n",
       "      <td>telephone</td>\n",
       "      <td>may</td>\n",
       "      <td>mon</td>\n",
       "      <td>...</td>\n",
       "      <td>0</td>\n",
       "      <td>nonexistent</td>\n",
       "      <td>1.1</td>\n",
       "      <td>93.994</td>\n",
       "      <td>-36.4</td>\n",
       "      <td>4.857</td>\n",
       "      <td>5191.0</td>\n",
       "      <td>999.0</td>\n",
       "      <td>0</td>\n",
       "      <td>no</td>\n",
       "    </tr>\n",
       "    <tr>\n",
       "      <td>3</td>\n",
       "      <td>55.0</td>\n",
       "      <td>management</td>\n",
       "      <td>divorced</td>\n",
       "      <td>NaN</td>\n",
       "      <td>unknown</td>\n",
       "      <td>yes</td>\n",
       "      <td>yes</td>\n",
       "      <td>cellular</td>\n",
       "      <td>jul</td>\n",
       "      <td>wed</td>\n",
       "      <td>...</td>\n",
       "      <td>0</td>\n",
       "      <td>nonexistent</td>\n",
       "      <td>1.4</td>\n",
       "      <td>93.918</td>\n",
       "      <td>-42.7</td>\n",
       "      <td>4.962</td>\n",
       "      <td>5228.1</td>\n",
       "      <td>999.0</td>\n",
       "      <td>0</td>\n",
       "      <td>no</td>\n",
       "    </tr>\n",
       "    <tr>\n",
       "      <td>4</td>\n",
       "      <td>NaN</td>\n",
       "      <td>admin.</td>\n",
       "      <td>divorced</td>\n",
       "      <td>university.degree</td>\n",
       "      <td>no</td>\n",
       "      <td>yes</td>\n",
       "      <td>no</td>\n",
       "      <td>cellular</td>\n",
       "      <td>may</td>\n",
       "      <td>tue</td>\n",
       "      <td>...</td>\n",
       "      <td>1</td>\n",
       "      <td>failure</td>\n",
       "      <td>-1.8</td>\n",
       "      <td>92.893</td>\n",
       "      <td>-46.2</td>\n",
       "      <td>1.291</td>\n",
       "      <td>5099.1</td>\n",
       "      <td>999.0</td>\n",
       "      <td>1</td>\n",
       "      <td>no</td>\n",
       "    </tr>\n",
       "  </tbody>\n",
       "</table>\n",
       "<p>5 rows × 22 columns</p>\n",
       "</div>"
      ],
      "text/plain": [
       "   custAge   profession   marital          schooling  default housing loan  \\\n",
       "0     55.0       admin.    single  university.degree  unknown      no   no   \n",
       "1      NaN  blue-collar   married                NaN       no      no   no   \n",
       "2     42.0   technician   married        high.school       no      no   no   \n",
       "3     55.0   management  divorced                NaN  unknown     yes  yes   \n",
       "4      NaN       admin.  divorced  university.degree       no     yes   no   \n",
       "\n",
       "     contact month day_of_week  ...  previous     poutcome  emp.var.rate  \\\n",
       "0   cellular   nov         mon  ...         0  nonexistent          -0.1   \n",
       "1   cellular   jul         mon  ...         0  nonexistent           1.4   \n",
       "2  telephone   may         mon  ...         0  nonexistent           1.1   \n",
       "3   cellular   jul         wed  ...         0  nonexistent           1.4   \n",
       "4   cellular   may         tue  ...         1      failure          -1.8   \n",
       "\n",
       "  cons.price.idx  cons.conf.idx  euribor3m  nr.employed  pmonths  pastEmail  \\\n",
       "0         93.200          -42.0      4.191       5195.8    999.0          0   \n",
       "1         93.918          -42.7      4.960       5228.1    999.0          0   \n",
       "2         93.994          -36.4      4.857       5191.0    999.0          0   \n",
       "3         93.918          -42.7      4.962       5228.1    999.0          0   \n",
       "4         92.893          -46.2      1.291       5099.1    999.0          1   \n",
       "\n",
       "   responded  \n",
       "0         no  \n",
       "1         no  \n",
       "2         no  \n",
       "3         no  \n",
       "4         no  \n",
       "\n",
       "[5 rows x 22 columns]"
      ]
     },
     "execution_count": 2,
     "metadata": {},
     "output_type": "execute_result"
    }
   ],
   "source": [
    "# Reading the dataset into a pandas Dataframe\n",
    "marketing = pd.read_csv('Marketing_train.csv')\n",
    "\n",
    "#Display the 1st 5 rows of the data\n",
    "marketing.head()"
   ]
  },
  {
   "cell_type": "markdown",
   "metadata": {},
   "source": [
    "## Data Cleaning"
   ]
  },
  {
   "cell_type": "code",
   "execution_count": 3,
   "metadata": {},
   "outputs": [
    {
     "name": "stdout",
     "output_type": "stream",
     "text": [
      "profession: \n",
      " ['admin.' 'blue-collar' 'technician' 'management' 'services' 'unemployed'\n",
      " 'housemaid' 'unknown' 'self-employed' 'retired' 'student' 'entrepreneur']\n",
      "\n",
      "marital: \n",
      " ['single' 'married' 'divorced' 'unknown']\n",
      "\n",
      "schooling: \n",
      " ['university.degree' nan 'high.school' 'basic.4y' 'basic.9y'\n",
      " 'professional.course' 'basic.6y' 'unknown' 'illiterate']\n",
      "\n",
      "default: \n",
      " ['unknown' 'no' 'yes']\n",
      "\n",
      "housing: \n",
      " ['no' 'yes' 'unknown']\n",
      "\n",
      "loan: \n",
      " ['no' 'yes' 'unknown']\n",
      "\n",
      "contact: \n",
      " ['cellular' 'telephone']\n",
      "\n",
      "month: \n",
      " ['nov' 'jul' 'may' 'aug' 'apr' 'jun' 'mar' 'oct' 'sep' 'dec']\n",
      "\n",
      "day_of_week: \n",
      " ['mon' 'wed' 'tue' 'fri' 'thu' nan]\n",
      "\n",
      "poutcome: \n",
      " ['nonexistent' 'failure' 'success']\n",
      "\n",
      "responded: \n",
      " ['no' 'yes']\n",
      "\n"
     ]
    }
   ],
   "source": [
    "# Checking for the unique values present in the categorial features.\n",
    "for i in marketing.columns:\n",
    "    if marketing[i].dtype == type(object):\n",
    "        print(i, end=': ')\n",
    "        print('\\n', marketing[i].unique())\n",
    "        print()\n",
    "# Assume 'unknown' are missing values."
   ]
  },
  {
   "cell_type": "markdown",
   "metadata": {},
   "source": [
    "- The categorical features contain NaN values in the form of \"unknown\"\n",
    "- To get rid of this we need to read the data again passing the \"unknown\" to na_values"
   ]
  },
  {
   "cell_type": "code",
   "execution_count": 4,
   "metadata": {},
   "outputs": [
    {
     "data": {
      "text/html": [
       "<div>\n",
       "<style scoped>\n",
       "    .dataframe tbody tr th:only-of-type {\n",
       "        vertical-align: middle;\n",
       "    }\n",
       "\n",
       "    .dataframe tbody tr th {\n",
       "        vertical-align: top;\n",
       "    }\n",
       "\n",
       "    .dataframe thead th {\n",
       "        text-align: right;\n",
       "    }\n",
       "</style>\n",
       "<table border=\"1\" class=\"dataframe\">\n",
       "  <thead>\n",
       "    <tr style=\"text-align: right;\">\n",
       "      <th></th>\n",
       "      <th>custAge</th>\n",
       "      <th>profession</th>\n",
       "      <th>marital</th>\n",
       "      <th>schooling</th>\n",
       "      <th>default</th>\n",
       "      <th>housing</th>\n",
       "      <th>loan</th>\n",
       "      <th>contact</th>\n",
       "      <th>month</th>\n",
       "      <th>day_of_week</th>\n",
       "      <th>...</th>\n",
       "      <th>previous</th>\n",
       "      <th>poutcome</th>\n",
       "      <th>emp.var.rate</th>\n",
       "      <th>cons.price.idx</th>\n",
       "      <th>cons.conf.idx</th>\n",
       "      <th>euribor3m</th>\n",
       "      <th>nr.employed</th>\n",
       "      <th>pmonths</th>\n",
       "      <th>pastEmail</th>\n",
       "      <th>responded</th>\n",
       "    </tr>\n",
       "  </thead>\n",
       "  <tbody>\n",
       "    <tr>\n",
       "      <td>0</td>\n",
       "      <td>55.0</td>\n",
       "      <td>admin.</td>\n",
       "      <td>single</td>\n",
       "      <td>university.degree</td>\n",
       "      <td>NaN</td>\n",
       "      <td>no</td>\n",
       "      <td>no</td>\n",
       "      <td>cellular</td>\n",
       "      <td>nov</td>\n",
       "      <td>mon</td>\n",
       "      <td>...</td>\n",
       "      <td>0</td>\n",
       "      <td>nonexistent</td>\n",
       "      <td>-0.1</td>\n",
       "      <td>93.200</td>\n",
       "      <td>-42.0</td>\n",
       "      <td>4.191</td>\n",
       "      <td>5195.8</td>\n",
       "      <td>999.0</td>\n",
       "      <td>0</td>\n",
       "      <td>no</td>\n",
       "    </tr>\n",
       "    <tr>\n",
       "      <td>1</td>\n",
       "      <td>NaN</td>\n",
       "      <td>blue-collar</td>\n",
       "      <td>married</td>\n",
       "      <td>NaN</td>\n",
       "      <td>no</td>\n",
       "      <td>no</td>\n",
       "      <td>no</td>\n",
       "      <td>cellular</td>\n",
       "      <td>jul</td>\n",
       "      <td>mon</td>\n",
       "      <td>...</td>\n",
       "      <td>0</td>\n",
       "      <td>nonexistent</td>\n",
       "      <td>1.4</td>\n",
       "      <td>93.918</td>\n",
       "      <td>-42.7</td>\n",
       "      <td>4.960</td>\n",
       "      <td>5228.1</td>\n",
       "      <td>999.0</td>\n",
       "      <td>0</td>\n",
       "      <td>no</td>\n",
       "    </tr>\n",
       "    <tr>\n",
       "      <td>2</td>\n",
       "      <td>42.0</td>\n",
       "      <td>technician</td>\n",
       "      <td>married</td>\n",
       "      <td>high.school</td>\n",
       "      <td>no</td>\n",
       "      <td>no</td>\n",
       "      <td>no</td>\n",
       "      <td>telephone</td>\n",
       "      <td>may</td>\n",
       "      <td>mon</td>\n",
       "      <td>...</td>\n",
       "      <td>0</td>\n",
       "      <td>nonexistent</td>\n",
       "      <td>1.1</td>\n",
       "      <td>93.994</td>\n",
       "      <td>-36.4</td>\n",
       "      <td>4.857</td>\n",
       "      <td>5191.0</td>\n",
       "      <td>999.0</td>\n",
       "      <td>0</td>\n",
       "      <td>no</td>\n",
       "    </tr>\n",
       "    <tr>\n",
       "      <td>3</td>\n",
       "      <td>55.0</td>\n",
       "      <td>management</td>\n",
       "      <td>divorced</td>\n",
       "      <td>NaN</td>\n",
       "      <td>NaN</td>\n",
       "      <td>yes</td>\n",
       "      <td>yes</td>\n",
       "      <td>cellular</td>\n",
       "      <td>jul</td>\n",
       "      <td>wed</td>\n",
       "      <td>...</td>\n",
       "      <td>0</td>\n",
       "      <td>nonexistent</td>\n",
       "      <td>1.4</td>\n",
       "      <td>93.918</td>\n",
       "      <td>-42.7</td>\n",
       "      <td>4.962</td>\n",
       "      <td>5228.1</td>\n",
       "      <td>999.0</td>\n",
       "      <td>0</td>\n",
       "      <td>no</td>\n",
       "    </tr>\n",
       "    <tr>\n",
       "      <td>4</td>\n",
       "      <td>NaN</td>\n",
       "      <td>admin.</td>\n",
       "      <td>divorced</td>\n",
       "      <td>university.degree</td>\n",
       "      <td>no</td>\n",
       "      <td>yes</td>\n",
       "      <td>no</td>\n",
       "      <td>cellular</td>\n",
       "      <td>may</td>\n",
       "      <td>tue</td>\n",
       "      <td>...</td>\n",
       "      <td>1</td>\n",
       "      <td>failure</td>\n",
       "      <td>-1.8</td>\n",
       "      <td>92.893</td>\n",
       "      <td>-46.2</td>\n",
       "      <td>1.291</td>\n",
       "      <td>5099.1</td>\n",
       "      <td>999.0</td>\n",
       "      <td>1</td>\n",
       "      <td>no</td>\n",
       "    </tr>\n",
       "  </tbody>\n",
       "</table>\n",
       "<p>5 rows × 22 columns</p>\n",
       "</div>"
      ],
      "text/plain": [
       "   custAge   profession   marital          schooling default housing loan  \\\n",
       "0     55.0       admin.    single  university.degree     NaN      no   no   \n",
       "1      NaN  blue-collar   married                NaN      no      no   no   \n",
       "2     42.0   technician   married        high.school      no      no   no   \n",
       "3     55.0   management  divorced                NaN     NaN     yes  yes   \n",
       "4      NaN       admin.  divorced  university.degree      no     yes   no   \n",
       "\n",
       "     contact month day_of_week  ...  previous     poutcome  emp.var.rate  \\\n",
       "0   cellular   nov         mon  ...         0  nonexistent          -0.1   \n",
       "1   cellular   jul         mon  ...         0  nonexistent           1.4   \n",
       "2  telephone   may         mon  ...         0  nonexistent           1.1   \n",
       "3   cellular   jul         wed  ...         0  nonexistent           1.4   \n",
       "4   cellular   may         tue  ...         1      failure          -1.8   \n",
       "\n",
       "  cons.price.idx  cons.conf.idx  euribor3m  nr.employed  pmonths  pastEmail  \\\n",
       "0         93.200          -42.0      4.191       5195.8    999.0          0   \n",
       "1         93.918          -42.7      4.960       5228.1    999.0          0   \n",
       "2         93.994          -36.4      4.857       5191.0    999.0          0   \n",
       "3         93.918          -42.7      4.962       5228.1    999.0          0   \n",
       "4         92.893          -46.2      1.291       5099.1    999.0          1   \n",
       "\n",
       "   responded  \n",
       "0         no  \n",
       "1         no  \n",
       "2         no  \n",
       "3         no  \n",
       "4         no  \n",
       "\n",
       "[5 rows x 22 columns]"
      ]
     },
     "execution_count": 4,
     "metadata": {},
     "output_type": "execute_result"
    }
   ],
   "source": [
    "# Re - reading the data\n",
    "marketing = pd.read_csv('Marketing_train.csv', na_values='unknown')\n",
    "\n",
    "# Display the 1st 5 rows of data\n",
    "marketing.head()"
   ]
  },
  {
   "cell_type": "markdown",
   "metadata": {},
   "source": [
    "## Exploratory Data Analysis"
   ]
  },
  {
   "cell_type": "code",
   "execution_count": 5,
   "metadata": {},
   "outputs": [
    {
     "data": {
      "text/plain": [
       "(7414, 22)"
      ]
     },
     "execution_count": 5,
     "metadata": {},
     "output_type": "execute_result"
    }
   ],
   "source": [
    "# Checking the size of the data\n",
    "marketing.shape"
   ]
  },
  {
   "cell_type": "code",
   "execution_count": 6,
   "metadata": {},
   "outputs": [
    {
     "data": {
      "text/plain": [
       "Index(['custAge', 'profession', 'marital', 'schooling', 'default', 'housing',\n",
       "       'loan', 'contact', 'month', 'day_of_week', 'campaign', 'pdays',\n",
       "       'previous', 'poutcome', 'emp.var.rate', 'cons.price.idx',\n",
       "       'cons.conf.idx', 'euribor3m', 'nr.employed', 'pmonths', 'pastEmail',\n",
       "       'responded'],\n",
       "      dtype='object')"
      ]
     },
     "execution_count": 6,
     "metadata": {},
     "output_type": "execute_result"
    }
   ],
   "source": [
    "marketing.columns"
   ]
  },
  {
   "cell_type": "code",
   "execution_count": 7,
   "metadata": {},
   "outputs": [
    {
     "data": {
      "text/html": [
       "<div>\n",
       "<style scoped>\n",
       "    .dataframe tbody tr th:only-of-type {\n",
       "        vertical-align: middle;\n",
       "    }\n",
       "\n",
       "    .dataframe tbody tr th {\n",
       "        vertical-align: top;\n",
       "    }\n",
       "\n",
       "    .dataframe thead th {\n",
       "        text-align: right;\n",
       "    }\n",
       "</style>\n",
       "<table border=\"1\" class=\"dataframe\">\n",
       "  <thead>\n",
       "    <tr style=\"text-align: right;\">\n",
       "      <th></th>\n",
       "      <th>custAge</th>\n",
       "      <th>campaign</th>\n",
       "      <th>pdays</th>\n",
       "      <th>previous</th>\n",
       "      <th>emp.var.rate</th>\n",
       "      <th>cons.price.idx</th>\n",
       "      <th>cons.conf.idx</th>\n",
       "      <th>euribor3m</th>\n",
       "      <th>nr.employed</th>\n",
       "      <th>pmonths</th>\n",
       "      <th>pastEmail</th>\n",
       "    </tr>\n",
       "  </thead>\n",
       "  <tbody>\n",
       "    <tr>\n",
       "      <td>count</td>\n",
       "      <td>5610.000000</td>\n",
       "      <td>7414.000000</td>\n",
       "      <td>7414.000000</td>\n",
       "      <td>7414.000000</td>\n",
       "      <td>7414.000000</td>\n",
       "      <td>7414.000000</td>\n",
       "      <td>7414.000000</td>\n",
       "      <td>7414.000000</td>\n",
       "      <td>7414.000000</td>\n",
       "      <td>7414.000000</td>\n",
       "      <td>7414.000000</td>\n",
       "    </tr>\n",
       "    <tr>\n",
       "      <td>mean</td>\n",
       "      <td>40.009804</td>\n",
       "      <td>2.518344</td>\n",
       "      <td>960.024548</td>\n",
       "      <td>0.184111</td>\n",
       "      <td>0.052091</td>\n",
       "      <td>93.570708</td>\n",
       "      <td>-40.561316</td>\n",
       "      <td>3.583141</td>\n",
       "      <td>5165.224251</td>\n",
       "      <td>959.797028</td>\n",
       "      <td>0.361883</td>\n",
       "    </tr>\n",
       "    <tr>\n",
       "      <td>std</td>\n",
       "      <td>10.574616</td>\n",
       "      <td>2.695055</td>\n",
       "      <td>192.845029</td>\n",
       "      <td>0.516775</td>\n",
       "      <td>1.568399</td>\n",
       "      <td>0.578345</td>\n",
       "      <td>4.649800</td>\n",
       "      <td>1.744865</td>\n",
       "      <td>73.108669</td>\n",
       "      <td>193.969418</td>\n",
       "      <td>1.261668</td>\n",
       "    </tr>\n",
       "    <tr>\n",
       "      <td>min</td>\n",
       "      <td>18.000000</td>\n",
       "      <td>1.000000</td>\n",
       "      <td>0.000000</td>\n",
       "      <td>0.000000</td>\n",
       "      <td>-3.400000</td>\n",
       "      <td>92.201000</td>\n",
       "      <td>-50.800000</td>\n",
       "      <td>0.634000</td>\n",
       "      <td>4963.600000</td>\n",
       "      <td>0.000000</td>\n",
       "      <td>0.000000</td>\n",
       "    </tr>\n",
       "    <tr>\n",
       "      <td>25%</td>\n",
       "      <td>32.000000</td>\n",
       "      <td>1.000000</td>\n",
       "      <td>999.000000</td>\n",
       "      <td>0.000000</td>\n",
       "      <td>-1.800000</td>\n",
       "      <td>93.075000</td>\n",
       "      <td>-42.700000</td>\n",
       "      <td>1.334000</td>\n",
       "      <td>5099.100000</td>\n",
       "      <td>999.000000</td>\n",
       "      <td>0.000000</td>\n",
       "    </tr>\n",
       "    <tr>\n",
       "      <td>50%</td>\n",
       "      <td>38.000000</td>\n",
       "      <td>2.000000</td>\n",
       "      <td>999.000000</td>\n",
       "      <td>0.000000</td>\n",
       "      <td>1.100000</td>\n",
       "      <td>93.444000</td>\n",
       "      <td>-41.800000</td>\n",
       "      <td>4.857000</td>\n",
       "      <td>5191.000000</td>\n",
       "      <td>999.000000</td>\n",
       "      <td>0.000000</td>\n",
       "    </tr>\n",
       "    <tr>\n",
       "      <td>75%</td>\n",
       "      <td>47.000000</td>\n",
       "      <td>3.000000</td>\n",
       "      <td>999.000000</td>\n",
       "      <td>0.000000</td>\n",
       "      <td>1.400000</td>\n",
       "      <td>93.994000</td>\n",
       "      <td>-36.400000</td>\n",
       "      <td>4.961000</td>\n",
       "      <td>5228.100000</td>\n",
       "      <td>999.000000</td>\n",
       "      <td>0.000000</td>\n",
       "    </tr>\n",
       "    <tr>\n",
       "      <td>max</td>\n",
       "      <td>94.000000</td>\n",
       "      <td>40.000000</td>\n",
       "      <td>999.000000</td>\n",
       "      <td>6.000000</td>\n",
       "      <td>1.400000</td>\n",
       "      <td>94.767000</td>\n",
       "      <td>-26.900000</td>\n",
       "      <td>5.045000</td>\n",
       "      <td>5228.100000</td>\n",
       "      <td>999.000000</td>\n",
       "      <td>18.000000</td>\n",
       "    </tr>\n",
       "  </tbody>\n",
       "</table>\n",
       "</div>"
      ],
      "text/plain": [
       "           custAge     campaign        pdays     previous  emp.var.rate  \\\n",
       "count  5610.000000  7414.000000  7414.000000  7414.000000   7414.000000   \n",
       "mean     40.009804     2.518344   960.024548     0.184111      0.052091   \n",
       "std      10.574616     2.695055   192.845029     0.516775      1.568399   \n",
       "min      18.000000     1.000000     0.000000     0.000000     -3.400000   \n",
       "25%      32.000000     1.000000   999.000000     0.000000     -1.800000   \n",
       "50%      38.000000     2.000000   999.000000     0.000000      1.100000   \n",
       "75%      47.000000     3.000000   999.000000     0.000000      1.400000   \n",
       "max      94.000000    40.000000   999.000000     6.000000      1.400000   \n",
       "\n",
       "       cons.price.idx  cons.conf.idx    euribor3m  nr.employed      pmonths  \\\n",
       "count     7414.000000    7414.000000  7414.000000  7414.000000  7414.000000   \n",
       "mean        93.570708     -40.561316     3.583141  5165.224251   959.797028   \n",
       "std          0.578345       4.649800     1.744865    73.108669   193.969418   \n",
       "min         92.201000     -50.800000     0.634000  4963.600000     0.000000   \n",
       "25%         93.075000     -42.700000     1.334000  5099.100000   999.000000   \n",
       "50%         93.444000     -41.800000     4.857000  5191.000000   999.000000   \n",
       "75%         93.994000     -36.400000     4.961000  5228.100000   999.000000   \n",
       "max         94.767000     -26.900000     5.045000  5228.100000   999.000000   \n",
       "\n",
       "         pastEmail  \n",
       "count  7414.000000  \n",
       "mean      0.361883  \n",
       "std       1.261668  \n",
       "min       0.000000  \n",
       "25%       0.000000  \n",
       "50%       0.000000  \n",
       "75%       0.000000  \n",
       "max      18.000000  "
      ]
     },
     "execution_count": 7,
     "metadata": {},
     "output_type": "execute_result"
    }
   ],
   "source": [
    "# Summurzing the data using the descriptive statistics\n",
    "marketing.describe()"
   ]
  },
  {
   "cell_type": "code",
   "execution_count": 8,
   "metadata": {},
   "outputs": [
    {
     "name": "stdout",
     "output_type": "stream",
     "text": [
      "<class 'pandas.core.frame.DataFrame'>\n",
      "RangeIndex: 7414 entries, 0 to 7413\n",
      "Data columns (total 22 columns):\n",
      "custAge           5610 non-null float64\n",
      "profession        7353 non-null object\n",
      "marital           7406 non-null object\n",
      "schooling         5028 non-null object\n",
      "default           5982 non-null object\n",
      "housing           7246 non-null object\n",
      "loan              7246 non-null object\n",
      "contact           7414 non-null object\n",
      "month             7414 non-null object\n",
      "day_of_week       6703 non-null object\n",
      "campaign          7414 non-null int64\n",
      "pdays             7414 non-null int64\n",
      "previous          7414 non-null int64\n",
      "poutcome          7414 non-null object\n",
      "emp.var.rate      7414 non-null float64\n",
      "cons.price.idx    7414 non-null float64\n",
      "cons.conf.idx     7414 non-null float64\n",
      "euribor3m         7414 non-null float64\n",
      "nr.employed       7414 non-null float64\n",
      "pmonths           7414 non-null float64\n",
      "pastEmail         7414 non-null int64\n",
      "responded         7414 non-null object\n",
      "dtypes: float64(7), int64(4), object(11)\n",
      "memory usage: 1.2+ MB\n"
     ]
    }
   ],
   "source": [
    "marketing.info()"
   ]
  },
  {
   "cell_type": "markdown",
   "metadata": {},
   "source": [
    "## Missing value Analysis"
   ]
  },
  {
   "cell_type": "code",
   "execution_count": 9,
   "metadata": {},
   "outputs": [
    {
     "data": {
      "text/plain": [
       "custAge           1804\n",
       "profession          61\n",
       "marital              8\n",
       "schooling         2386\n",
       "default           1432\n",
       "housing            168\n",
       "loan               168\n",
       "contact              0\n",
       "month                0\n",
       "day_of_week        711\n",
       "campaign             0\n",
       "pdays                0\n",
       "previous             0\n",
       "poutcome             0\n",
       "emp.var.rate         0\n",
       "cons.price.idx       0\n",
       "cons.conf.idx        0\n",
       "euribor3m            0\n",
       "nr.employed          0\n",
       "pmonths              0\n",
       "pastEmail            0\n",
       "responded            0\n",
       "dtype: int64"
      ]
     },
     "execution_count": 9,
     "metadata": {},
     "output_type": "execute_result"
    }
   ],
   "source": [
    "# Checking the total missing values present in each feature of data\n",
    "marketing.isnull().sum()"
   ]
  },
  {
   "cell_type": "code",
   "execution_count": 10,
   "metadata": {},
   "outputs": [
    {
     "data": {
      "text/plain": [
       "custAge           24.332344\n",
       "profession         0.822768\n",
       "marital            0.107904\n",
       "schooling         32.182358\n",
       "default           19.314810\n",
       "housing            2.265983\n",
       "loan               2.265983\n",
       "contact            0.000000\n",
       "month              0.000000\n",
       "day_of_week        9.589965\n",
       "campaign           0.000000\n",
       "pdays              0.000000\n",
       "previous           0.000000\n",
       "poutcome           0.000000\n",
       "emp.var.rate       0.000000\n",
       "cons.price.idx     0.000000\n",
       "cons.conf.idx      0.000000\n",
       "euribor3m          0.000000\n",
       "nr.employed        0.000000\n",
       "pmonths            0.000000\n",
       "pastEmail          0.000000\n",
       "responded          0.000000\n",
       "dtype: float64"
      ]
     },
     "execution_count": 10,
     "metadata": {},
     "output_type": "execute_result"
    }
   ],
   "source": [
    "# Check % of missing data\n",
    "(marketing.isnull().sum())/len(marketing)*100\n",
    "# Try to impute the data, still if performance is bad then drop the the columns"
   ]
  },
  {
   "cell_type": "markdown",
   "metadata": {},
   "source": [
    "## Missing value imputation"
   ]
  },
  {
   "cell_type": "code",
   "execution_count": 11,
   "metadata": {},
   "outputs": [
    {
     "data": {
      "text/plain": [
       "custAge           0\n",
       "profession        0\n",
       "marital           0\n",
       "schooling         0\n",
       "default           0\n",
       "housing           0\n",
       "loan              0\n",
       "contact           0\n",
       "month             0\n",
       "day_of_week       0\n",
       "campaign          0\n",
       "pdays             0\n",
       "previous          0\n",
       "poutcome          0\n",
       "emp.var.rate      0\n",
       "cons.price.idx    0\n",
       "cons.conf.idx     0\n",
       "euribor3m         0\n",
       "nr.employed       0\n",
       "pmonths           0\n",
       "pastEmail         0\n",
       "responded         0\n",
       "dtype: int64"
      ]
     },
     "execution_count": 11,
     "metadata": {},
     "output_type": "execute_result"
    }
   ],
   "source": [
    "# Mean Imputation Missing Values for Numeric Variables\n",
    "marketing[\"custAge\"] = marketing[\"custAge\"].fillna(marketing[\"custAge\"].mean())\n",
    "\n",
    "# Mode Imputation of Missing Values for Categorical Variables\n",
    "marketing[\"schooling\"] = marketing[\"schooling\"].fillna(marketing[\"schooling\"].mode()[0])\n",
    "marketing[\"day_of_week\"] = marketing[\"day_of_week\"].fillna(marketing[\"day_of_week\"].mode()[0])\n",
    "marketing[\"default\"] = marketing[\"default\"].fillna(marketing[\"default\"].mode()[0])\n",
    "marketing[\"loan\"] = marketing[\"loan\"].fillna(marketing[\"loan\"].mode()[0])\n",
    "marketing[\"profession\"] = marketing[\"profession\"].fillna(marketing[\"profession\"].mode()[0])\n",
    "marketing[\"housing\"] = marketing[\"housing\"].fillna(marketing[\"housing\"].mode()[0])\n",
    "marketing[\"marital\"] = marketing[\"marital\"].fillna(marketing[\"marital\"].mode()[0])\n",
    "\n",
    "# Checking the count of missing values\n",
    "marketing.isnull().sum()"
   ]
  },
  {
   "cell_type": "code",
   "execution_count": 12,
   "metadata": {},
   "outputs": [
    {
     "name": "stdout",
     "output_type": "stream",
     "text": [
      "profession: \n",
      " ['admin.' 'blue-collar' 'technician' 'management' 'services' 'unemployed'\n",
      " 'housemaid' 'self-employed' 'retired' 'student' 'entrepreneur']\n",
      "\n",
      "marital: \n",
      " ['single' 'married' 'divorced']\n",
      "\n",
      "schooling: \n",
      " ['university.degree' 'high.school' 'basic.4y' 'basic.9y'\n",
      " 'professional.course' 'basic.6y' 'illiterate']\n",
      "\n",
      "default: \n",
      " ['no' 'yes']\n",
      "\n",
      "housing: \n",
      " ['no' 'yes']\n",
      "\n",
      "loan: \n",
      " ['no' 'yes']\n",
      "\n",
      "contact: \n",
      " ['cellular' 'telephone']\n",
      "\n",
      "month: \n",
      " ['nov' 'jul' 'may' 'aug' 'apr' 'jun' 'mar' 'oct' 'sep' 'dec']\n",
      "\n",
      "day_of_week: \n",
      " ['mon' 'wed' 'tue' 'fri' 'thu']\n",
      "\n",
      "poutcome: \n",
      " ['nonexistent' 'failure' 'success']\n",
      "\n",
      "responded: \n",
      " ['no' 'yes']\n",
      "\n"
     ]
    }
   ],
   "source": [
    "# Checking for the unique values present in categorical columns\n",
    "for i in marketing.columns:\n",
    "    if marketing[i].dtype == type(object):\n",
    "        print(i, end=': ')\n",
    "        print('\\n', marketing[i].unique())\n",
    "        print()"
   ]
  },
  {
   "cell_type": "markdown",
   "metadata": {},
   "source": [
    "## Univariate Analysis of Target Variable"
   ]
  },
  {
   "cell_type": "code",
   "execution_count": 13,
   "metadata": {},
   "outputs": [
    {
     "data": {
      "text/plain": [
       "no     6574\n",
       "yes     840\n",
       "Name: responded, dtype: int64"
      ]
     },
     "execution_count": 13,
     "metadata": {},
     "output_type": "execute_result"
    }
   ],
   "source": [
    "# Univariate Analysis\n",
    "marketing['responded'].value_counts()"
   ]
  },
  {
   "cell_type": "code",
   "execution_count": 14,
   "metadata": {},
   "outputs": [
    {
     "data": {
      "text/plain": [
       "no     0.886701\n",
       "yes    0.113299\n",
       "Name: responded, dtype: float64"
      ]
     },
     "execution_count": 14,
     "metadata": {},
     "output_type": "execute_result"
    }
   ],
   "source": [
    "# Checking the distribution of the target variable in percentage\n",
    "marketing['responded'].value_counts(normalize = True)\n",
    "# class Problem"
   ]
  },
  {
   "cell_type": "code",
   "execution_count": 15,
   "metadata": {},
   "outputs": [
    {
     "data": {
      "text/plain": [
       "<matplotlib.axes._subplots.AxesSubplot at 0x17e8e533948>"
      ]
     },
     "execution_count": 15,
     "metadata": {},
     "output_type": "execute_result"
    },
    {
     "data": {
      "image/png": "[encoded data removed]",
      "text/plain": [
       "<Figure size 432x288 with 1 Axes>"
      ]
     },
     "metadata": {
      "needs_background": "light"
     },
     "output_type": "display_data"
    }
   ],
   "source": [
    "# Countplot to check the distribution of the target variable\n",
    "sns.countplot(marketing['responded'])"
   ]
  },
  {
   "cell_type": "markdown",
   "metadata": {},
   "source": [
    "## Outlier Analysis"
   ]
  },
  {
   "cell_type": "code",
   "execution_count": 16,
   "metadata": {},
   "outputs": [
    {
     "data": {
      "text/plain": [
       "<matplotlib.axes._subplots.AxesSubplot at 0x17e8e5ff188>"
      ]
     },
     "execution_count": 16,
     "metadata": {},
     "output_type": "execute_result"
    },
    {
     "data": {
      "image/png": "[encoded data removed]",
      "text/plain": [
       "<Figure size 432x288 with 1 Axes>"
      ]
     },
     "metadata": {
      "needs_background": "light"
     },
     "output_type": "display_data"
    }
   ],
   "source": [
    "sns.boxplot(marketing['custAge'])"
   ]
  },
  {
   "cell_type": "code",
   "execution_count": 17,
   "metadata": {},
   "outputs": [
    {
     "data": {
      "text/plain": [
       "141"
      ]
     },
     "execution_count": 17,
     "metadata": {},
     "output_type": "execute_result"
    }
   ],
   "source": [
    "# count the outliers\n",
    "marketing[marketing['custAge']>60]['custAge'].count()"
   ]
  },
  {
   "cell_type": "code",
   "execution_count": 18,
   "metadata": {},
   "outputs": [
    {
     "data": {
      "image/png": "[encoded data removed]",
      "text/plain": [
       "<Figure size 432x288 with 1 Axes>"
      ]
     },
     "metadata": {
      "needs_background": "light"
     },
     "output_type": "display_data"
    }
   ],
   "source": [
    "# Plotting a histogram for the variable custAge\n",
    "ax = plt.hist(marketing['custAge'],bins= 10)"
   ]
  },
  {
   "cell_type": "markdown",
   "metadata": {},
   "source": [
    "## Bivariate Analysis"
   ]
  },
  {
   "cell_type": "code",
   "execution_count": 19,
   "metadata": {},
   "outputs": [
    {
     "data": {
      "text/plain": [
       "<matplotlib.axes._subplots.AxesSubplot at 0x17e8e729908>"
      ]
     },
     "execution_count": 19,
     "metadata": {},
     "output_type": "execute_result"
    },
    {
     "data": {
      "image/png": "[encoded data removed]",
      "text/plain": [
       "<Figure size 432x288 with 1 Axes>"
      ]
     },
     "metadata": {
      "needs_background": "light"
     },
     "output_type": "display_data"
    }
   ],
   "source": [
    "# Checking how many responded when the contact was cellular\n",
    "sns.countplot(y= marketing['contact'], hue = marketing['responded'])"
   ]
  },
  {
   "cell_type": "code",
   "execution_count": 20,
   "metadata": {},
   "outputs": [
    {
     "data": {
      "text/plain": [
       "<matplotlib.axes._subplots.AxesSubplot at 0x17e8e64b748>"
      ]
     },
     "execution_count": 20,
     "metadata": {},
     "output_type": "execute_result"
    },
    {
     "data": {
      "image/png": "[encoded data removed]",
      "text/plain": [
       "<Figure size 432x288 with 1 Axes>"
      ]
     },
     "metadata": {
      "needs_background": "light"
     },
     "output_type": "display_data"
    }
   ],
   "source": [
    "# Checking how loan is affecting the target\n",
    "sns.countplot(y=marketing['loan'],hue=marketing['responded'])"
   ]
  },
  {
   "cell_type": "markdown",
   "metadata": {},
   "source": [
    "## Calculate correlation"
   ]
  },
  {
   "cell_type": "code",
   "execution_count": 21,
   "metadata": {},
   "outputs": [
    {
     "data": {
      "image/png": "[encoded data removed]",
      "text/plain": [
       "<Figure size 1080x576 with 2 Axes>"
      ]
     },
     "metadata": {
      "needs_background": "light"
     },
     "output_type": "display_data"
    }
   ],
   "source": [
    "# Calculate the correlation for the dataset\n",
    "corr = marketing.corr()\n",
    "# Setting the size of the figure\n",
    "plt.figure(figsize=(15,8))\n",
    "# Plot the correaltion using the heatmap\n",
    "ax = sns.heatmap(corr,annot=True)"
   ]
  },
  {
   "cell_type": "markdown",
   "metadata": {},
   "source": [
    "## Encoding the categorical variables"
   ]
  },
  {
   "cell_type": "code",
   "execution_count": 22,
   "metadata": {},
   "outputs": [
    {
     "data": {
      "text/html": [
       "<div>\n",
       "<style scoped>\n",
       "    .dataframe tbody tr th:only-of-type {\n",
       "        vertical-align: middle;\n",
       "    }\n",
       "\n",
       "    .dataframe tbody tr th {\n",
       "        vertical-align: top;\n",
       "    }\n",
       "\n",
       "    .dataframe thead th {\n",
       "        text-align: right;\n",
       "    }\n",
       "</style>\n",
       "<table border=\"1\" class=\"dataframe\">\n",
       "  <thead>\n",
       "    <tr style=\"text-align: right;\">\n",
       "      <th></th>\n",
       "      <th>custAge</th>\n",
       "      <th>profession</th>\n",
       "      <th>marital</th>\n",
       "      <th>schooling</th>\n",
       "      <th>default</th>\n",
       "      <th>housing</th>\n",
       "      <th>loan</th>\n",
       "      <th>contact</th>\n",
       "      <th>month</th>\n",
       "      <th>day_of_week</th>\n",
       "      <th>...</th>\n",
       "      <th>previous</th>\n",
       "      <th>poutcome</th>\n",
       "      <th>emp.var.rate</th>\n",
       "      <th>cons.price.idx</th>\n",
       "      <th>cons.conf.idx</th>\n",
       "      <th>euribor3m</th>\n",
       "      <th>nr.employed</th>\n",
       "      <th>pmonths</th>\n",
       "      <th>pastEmail</th>\n",
       "      <th>responded</th>\n",
       "    </tr>\n",
       "  </thead>\n",
       "  <tbody>\n",
       "    <tr>\n",
       "      <td>0</td>\n",
       "      <td>55.000000</td>\n",
       "      <td>0</td>\n",
       "      <td>2</td>\n",
       "      <td>6</td>\n",
       "      <td>no</td>\n",
       "      <td>no</td>\n",
       "      <td>no</td>\n",
       "      <td>0</td>\n",
       "      <td>7</td>\n",
       "      <td>1</td>\n",
       "      <td>...</td>\n",
       "      <td>0</td>\n",
       "      <td>1</td>\n",
       "      <td>-0.1</td>\n",
       "      <td>93.200</td>\n",
       "      <td>-42.0</td>\n",
       "      <td>4.191</td>\n",
       "      <td>5195.8</td>\n",
       "      <td>999.0</td>\n",
       "      <td>0</td>\n",
       "      <td>0</td>\n",
       "    </tr>\n",
       "    <tr>\n",
       "      <td>1</td>\n",
       "      <td>40.009804</td>\n",
       "      <td>1</td>\n",
       "      <td>1</td>\n",
       "      <td>6</td>\n",
       "      <td>no</td>\n",
       "      <td>no</td>\n",
       "      <td>no</td>\n",
       "      <td>0</td>\n",
       "      <td>3</td>\n",
       "      <td>1</td>\n",
       "      <td>...</td>\n",
       "      <td>0</td>\n",
       "      <td>1</td>\n",
       "      <td>1.4</td>\n",
       "      <td>93.918</td>\n",
       "      <td>-42.7</td>\n",
       "      <td>4.960</td>\n",
       "      <td>5228.1</td>\n",
       "      <td>999.0</td>\n",
       "      <td>0</td>\n",
       "      <td>0</td>\n",
       "    </tr>\n",
       "    <tr>\n",
       "      <td>2</td>\n",
       "      <td>42.000000</td>\n",
       "      <td>9</td>\n",
       "      <td>1</td>\n",
       "      <td>3</td>\n",
       "      <td>no</td>\n",
       "      <td>no</td>\n",
       "      <td>no</td>\n",
       "      <td>1</td>\n",
       "      <td>6</td>\n",
       "      <td>1</td>\n",
       "      <td>...</td>\n",
       "      <td>0</td>\n",
       "      <td>1</td>\n",
       "      <td>1.1</td>\n",
       "      <td>93.994</td>\n",
       "      <td>-36.4</td>\n",
       "      <td>4.857</td>\n",
       "      <td>5191.0</td>\n",
       "      <td>999.0</td>\n",
       "      <td>0</td>\n",
       "      <td>0</td>\n",
       "    </tr>\n",
       "    <tr>\n",
       "      <td>3</td>\n",
       "      <td>55.000000</td>\n",
       "      <td>4</td>\n",
       "      <td>0</td>\n",
       "      <td>6</td>\n",
       "      <td>no</td>\n",
       "      <td>yes</td>\n",
       "      <td>yes</td>\n",
       "      <td>0</td>\n",
       "      <td>3</td>\n",
       "      <td>4</td>\n",
       "      <td>...</td>\n",
       "      <td>0</td>\n",
       "      <td>1</td>\n",
       "      <td>1.4</td>\n",
       "      <td>93.918</td>\n",
       "      <td>-42.7</td>\n",
       "      <td>4.962</td>\n",
       "      <td>5228.1</td>\n",
       "      <td>999.0</td>\n",
       "      <td>0</td>\n",
       "      <td>0</td>\n",
       "    </tr>\n",
       "    <tr>\n",
       "      <td>4</td>\n",
       "      <td>40.009804</td>\n",
       "      <td>0</td>\n",
       "      <td>0</td>\n",
       "      <td>6</td>\n",
       "      <td>no</td>\n",
       "      <td>yes</td>\n",
       "      <td>no</td>\n",
       "      <td>0</td>\n",
       "      <td>6</td>\n",
       "      <td>3</td>\n",
       "      <td>...</td>\n",
       "      <td>1</td>\n",
       "      <td>0</td>\n",
       "      <td>-1.8</td>\n",
       "      <td>92.893</td>\n",
       "      <td>-46.2</td>\n",
       "      <td>1.291</td>\n",
       "      <td>5099.1</td>\n",
       "      <td>999.0</td>\n",
       "      <td>1</td>\n",
       "      <td>0</td>\n",
       "    </tr>\n",
       "  </tbody>\n",
       "</table>\n",
       "<p>5 rows × 22 columns</p>\n",
       "</div>"
      ],
      "text/plain": [
       "     custAge  profession  marital  schooling default housing loan  contact  \\\n",
       "0  55.000000           0        2          6      no      no   no        0   \n",
       "1  40.009804           1        1          6      no      no   no        0   \n",
       "2  42.000000           9        1          3      no      no   no        1   \n",
       "3  55.000000           4        0          6      no     yes  yes        0   \n",
       "4  40.009804           0        0          6      no     yes   no        0   \n",
       "\n",
       "   month  day_of_week  ...  previous  poutcome  emp.var.rate  cons.price.idx  \\\n",
       "0      7            1  ...         0         1          -0.1          93.200   \n",
       "1      3            1  ...         0         1           1.4          93.918   \n",
       "2      6            1  ...         0         1           1.1          93.994   \n",
       "3      3            4  ...         0         1           1.4          93.918   \n",
       "4      6            3  ...         1         0          -1.8          92.893   \n",
       "\n",
       "   cons.conf.idx  euribor3m  nr.employed  pmonths  pastEmail  responded  \n",
       "0          -42.0      4.191       5195.8    999.0          0          0  \n",
       "1          -42.7      4.960       5228.1    999.0          0          0  \n",
       "2          -36.4      4.857       5191.0    999.0          0          0  \n",
       "3          -42.7      4.962       5228.1    999.0          0          0  \n",
       "4          -46.2      1.291       5099.1    999.0          1          0  \n",
       "\n",
       "[5 rows x 22 columns]"
      ]
     },
     "execution_count": 22,
     "metadata": {},
     "output_type": "execute_result"
    }
   ],
   "source": [
    "# Cols to perform Label Encoding\n",
    "cols_to_le = ['profession','marital','schooling','contact','month','day_of_week','poutcome','responded']\n",
    "\n",
    "#label Encoding the categorical variables\n",
    "from sklearn.preprocessing import LabelEncoder\n",
    "le = LabelEncoder()\n",
    "for column in cols_to_le:\n",
    "    marketing[column] = le.fit_transform(marketing[column])\n",
    "\n",
    "marketing.head()\n",
    "# Label encoding affects classification related algorithms like KNN where distance is involved. \n",
    "# As per our dataset there are several attr which are categorical."
   ]
  },
  {
   "cell_type": "code",
   "execution_count": 23,
   "metadata": {},
   "outputs": [],
   "source": [
    "#!pip install category_encoders"
   ]
  },
  {
   "cell_type": "code",
   "execution_count": 24,
   "metadata": {},
   "outputs": [
    {
     "data": {
      "text/html": [
       "<div>\n",
       "<style scoped>\n",
       "    .dataframe tbody tr th:only-of-type {\n",
       "        vertical-align: middle;\n",
       "    }\n",
       "\n",
       "    .dataframe tbody tr th {\n",
       "        vertical-align: top;\n",
       "    }\n",
       "\n",
       "    .dataframe thead th {\n",
       "        text-align: right;\n",
       "    }\n",
       "</style>\n",
       "<table border=\"1\" class=\"dataframe\">\n",
       "  <thead>\n",
       "    <tr style=\"text-align: right;\">\n",
       "      <th></th>\n",
       "      <th>custAge</th>\n",
       "      <th>profession</th>\n",
       "      <th>marital</th>\n",
       "      <th>schooling</th>\n",
       "      <th>default_1</th>\n",
       "      <th>default_2</th>\n",
       "      <th>housing_1</th>\n",
       "      <th>housing_2</th>\n",
       "      <th>loan_1</th>\n",
       "      <th>loan_2</th>\n",
       "      <th>...</th>\n",
       "      <th>previous</th>\n",
       "      <th>poutcome</th>\n",
       "      <th>emp.var.rate</th>\n",
       "      <th>cons.price.idx</th>\n",
       "      <th>cons.conf.idx</th>\n",
       "      <th>euribor3m</th>\n",
       "      <th>nr.employed</th>\n",
       "      <th>pmonths</th>\n",
       "      <th>pastEmail</th>\n",
       "      <th>responded</th>\n",
       "    </tr>\n",
       "  </thead>\n",
       "  <tbody>\n",
       "    <tr>\n",
       "      <td>0</td>\n",
       "      <td>55.000000</td>\n",
       "      <td>0</td>\n",
       "      <td>2</td>\n",
       "      <td>6</td>\n",
       "      <td>1</td>\n",
       "      <td>0</td>\n",
       "      <td>1</td>\n",
       "      <td>0</td>\n",
       "      <td>1</td>\n",
       "      <td>0</td>\n",
       "      <td>...</td>\n",
       "      <td>0</td>\n",
       "      <td>1</td>\n",
       "      <td>-0.1</td>\n",
       "      <td>93.200</td>\n",
       "      <td>-42.0</td>\n",
       "      <td>4.191</td>\n",
       "      <td>5195.8</td>\n",
       "      <td>999.0</td>\n",
       "      <td>0</td>\n",
       "      <td>0</td>\n",
       "    </tr>\n",
       "    <tr>\n",
       "      <td>1</td>\n",
       "      <td>40.009804</td>\n",
       "      <td>1</td>\n",
       "      <td>1</td>\n",
       "      <td>6</td>\n",
       "      <td>1</td>\n",
       "      <td>0</td>\n",
       "      <td>1</td>\n",
       "      <td>0</td>\n",
       "      <td>1</td>\n",
       "      <td>0</td>\n",
       "      <td>...</td>\n",
       "      <td>0</td>\n",
       "      <td>1</td>\n",
       "      <td>1.4</td>\n",
       "      <td>93.918</td>\n",
       "      <td>-42.7</td>\n",
       "      <td>4.960</td>\n",
       "      <td>5228.1</td>\n",
       "      <td>999.0</td>\n",
       "      <td>0</td>\n",
       "      <td>0</td>\n",
       "    </tr>\n",
       "    <tr>\n",
       "      <td>2</td>\n",
       "      <td>42.000000</td>\n",
       "      <td>9</td>\n",
       "      <td>1</td>\n",
       "      <td>3</td>\n",
       "      <td>1</td>\n",
       "      <td>0</td>\n",
       "      <td>1</td>\n",
       "      <td>0</td>\n",
       "      <td>1</td>\n",
       "      <td>0</td>\n",
       "      <td>...</td>\n",
       "      <td>0</td>\n",
       "      <td>1</td>\n",
       "      <td>1.1</td>\n",
       "      <td>93.994</td>\n",
       "      <td>-36.4</td>\n",
       "      <td>4.857</td>\n",
       "      <td>5191.0</td>\n",
       "      <td>999.0</td>\n",
       "      <td>0</td>\n",
       "      <td>0</td>\n",
       "    </tr>\n",
       "    <tr>\n",
       "      <td>3</td>\n",
       "      <td>55.000000</td>\n",
       "      <td>4</td>\n",
       "      <td>0</td>\n",
       "      <td>6</td>\n",
       "      <td>1</td>\n",
       "      <td>0</td>\n",
       "      <td>0</td>\n",
       "      <td>1</td>\n",
       "      <td>0</td>\n",
       "      <td>1</td>\n",
       "      <td>...</td>\n",
       "      <td>0</td>\n",
       "      <td>1</td>\n",
       "      <td>1.4</td>\n",
       "      <td>93.918</td>\n",
       "      <td>-42.7</td>\n",
       "      <td>4.962</td>\n",
       "      <td>5228.1</td>\n",
       "      <td>999.0</td>\n",
       "      <td>0</td>\n",
       "      <td>0</td>\n",
       "    </tr>\n",
       "    <tr>\n",
       "      <td>4</td>\n",
       "      <td>40.009804</td>\n",
       "      <td>0</td>\n",
       "      <td>0</td>\n",
       "      <td>6</td>\n",
       "      <td>1</td>\n",
       "      <td>0</td>\n",
       "      <td>0</td>\n",
       "      <td>1</td>\n",
       "      <td>1</td>\n",
       "      <td>0</td>\n",
       "      <td>...</td>\n",
       "      <td>1</td>\n",
       "      <td>0</td>\n",
       "      <td>-1.8</td>\n",
       "      <td>92.893</td>\n",
       "      <td>-46.2</td>\n",
       "      <td>1.291</td>\n",
       "      <td>5099.1</td>\n",
       "      <td>999.0</td>\n",
       "      <td>1</td>\n",
       "      <td>0</td>\n",
       "    </tr>\n",
       "  </tbody>\n",
       "</table>\n",
       "<p>5 rows × 25 columns</p>\n",
       "</div>"
      ],
      "text/plain": [
       "     custAge  profession  marital  schooling  default_1  default_2  housing_1  \\\n",
       "0  55.000000           0        2          6          1          0          1   \n",
       "1  40.009804           1        1          6          1          0          1   \n",
       "2  42.000000           9        1          3          1          0          1   \n",
       "3  55.000000           4        0          6          1          0          0   \n",
       "4  40.009804           0        0          6          1          0          0   \n",
       "\n",
       "   housing_2  loan_1  loan_2  ...  previous  poutcome  emp.var.rate  \\\n",
       "0          0       1       0  ...         0         1          -0.1   \n",
       "1          0       1       0  ...         0         1           1.4   \n",
       "2          0       1       0  ...         0         1           1.1   \n",
       "3          1       0       1  ...         0         1           1.4   \n",
       "4          1       1       0  ...         1         0          -1.8   \n",
       "\n",
       "   cons.price.idx  cons.conf.idx  euribor3m  nr.employed  pmonths  pastEmail  \\\n",
       "0          93.200          -42.0      4.191       5195.8    999.0          0   \n",
       "1          93.918          -42.7      4.960       5228.1    999.0          0   \n",
       "2          93.994          -36.4      4.857       5191.0    999.0          0   \n",
       "3          93.918          -42.7      4.962       5228.1    999.0          0   \n",
       "4          92.893          -46.2      1.291       5099.1    999.0          1   \n",
       "\n",
       "   responded  \n",
       "0          0  \n",
       "1          0  \n",
       "2          0  \n",
       "3          0  \n",
       "4          0  \n",
       "\n",
       "[5 rows x 25 columns]"
      ]
     },
     "execution_count": 24,
     "metadata": {},
     "output_type": "execute_result"
    }
   ],
   "source": [
    "# Define the columns to perform one hot encoding\n",
    "cols_to_ohe = ['default','housing','loan']\n",
    "\n",
    "# Perform one hot encoding on the following columns\n",
    "import category_encoders as ce\n",
    "\n",
    "ce_ohe = ce.OneHotEncoder(cols= cols_to_ohe)\n",
    "marketing = ce_ohe.fit_transform(marketing)\n",
    "\n",
    "marketing.head()"
   ]
  },
  {
   "cell_type": "code",
   "execution_count": 25,
   "metadata": {},
   "outputs": [
    {
     "data": {
      "text/html": [
       "<div>\n",
       "<style scoped>\n",
       "    .dataframe tbody tr th:only-of-type {\n",
       "        vertical-align: middle;\n",
       "    }\n",
       "\n",
       "    .dataframe tbody tr th {\n",
       "        vertical-align: top;\n",
       "    }\n",
       "\n",
       "    .dataframe thead th {\n",
       "        text-align: right;\n",
       "    }\n",
       "</style>\n",
       "<table border=\"1\" class=\"dataframe\">\n",
       "  <thead>\n",
       "    <tr style=\"text-align: right;\">\n",
       "      <th></th>\n",
       "      <th>custAge</th>\n",
       "      <th>profession</th>\n",
       "      <th>marital</th>\n",
       "      <th>schooling</th>\n",
       "      <th>default_1</th>\n",
       "      <th>default_2</th>\n",
       "      <th>housing_1</th>\n",
       "      <th>housing_2</th>\n",
       "      <th>loan_1</th>\n",
       "      <th>loan_2</th>\n",
       "      <th>...</th>\n",
       "      <th>previous</th>\n",
       "      <th>poutcome</th>\n",
       "      <th>emp.var.rate</th>\n",
       "      <th>cons.price.idx</th>\n",
       "      <th>cons.conf.idx</th>\n",
       "      <th>euribor3m</th>\n",
       "      <th>nr.employed</th>\n",
       "      <th>pmonths</th>\n",
       "      <th>pastEmail</th>\n",
       "      <th>responded</th>\n",
       "    </tr>\n",
       "  </thead>\n",
       "  <tbody>\n",
       "    <tr>\n",
       "      <td>0</td>\n",
       "      <td>55.000000</td>\n",
       "      <td>0</td>\n",
       "      <td>2</td>\n",
       "      <td>6</td>\n",
       "      <td>1</td>\n",
       "      <td>0</td>\n",
       "      <td>1</td>\n",
       "      <td>0</td>\n",
       "      <td>1</td>\n",
       "      <td>0</td>\n",
       "      <td>...</td>\n",
       "      <td>0</td>\n",
       "      <td>1</td>\n",
       "      <td>-0.1</td>\n",
       "      <td>93.200</td>\n",
       "      <td>-42.0</td>\n",
       "      <td>4.191</td>\n",
       "      <td>5195.8</td>\n",
       "      <td>-1.0</td>\n",
       "      <td>0</td>\n",
       "      <td>0</td>\n",
       "    </tr>\n",
       "    <tr>\n",
       "      <td>1</td>\n",
       "      <td>40.009804</td>\n",
       "      <td>1</td>\n",
       "      <td>1</td>\n",
       "      <td>6</td>\n",
       "      <td>1</td>\n",
       "      <td>0</td>\n",
       "      <td>1</td>\n",
       "      <td>0</td>\n",
       "      <td>1</td>\n",
       "      <td>0</td>\n",
       "      <td>...</td>\n",
       "      <td>0</td>\n",
       "      <td>1</td>\n",
       "      <td>1.4</td>\n",
       "      <td>93.918</td>\n",
       "      <td>-42.7</td>\n",
       "      <td>4.960</td>\n",
       "      <td>5228.1</td>\n",
       "      <td>-1.0</td>\n",
       "      <td>0</td>\n",
       "      <td>0</td>\n",
       "    </tr>\n",
       "    <tr>\n",
       "      <td>2</td>\n",
       "      <td>42.000000</td>\n",
       "      <td>9</td>\n",
       "      <td>1</td>\n",
       "      <td>3</td>\n",
       "      <td>1</td>\n",
       "      <td>0</td>\n",
       "      <td>1</td>\n",
       "      <td>0</td>\n",
       "      <td>1</td>\n",
       "      <td>0</td>\n",
       "      <td>...</td>\n",
       "      <td>0</td>\n",
       "      <td>1</td>\n",
       "      <td>1.1</td>\n",
       "      <td>93.994</td>\n",
       "      <td>-36.4</td>\n",
       "      <td>4.857</td>\n",
       "      <td>5191.0</td>\n",
       "      <td>-1.0</td>\n",
       "      <td>0</td>\n",
       "      <td>0</td>\n",
       "    </tr>\n",
       "    <tr>\n",
       "      <td>3</td>\n",
       "      <td>55.000000</td>\n",
       "      <td>4</td>\n",
       "      <td>0</td>\n",
       "      <td>6</td>\n",
       "      <td>1</td>\n",
       "      <td>0</td>\n",
       "      <td>0</td>\n",
       "      <td>1</td>\n",
       "      <td>0</td>\n",
       "      <td>1</td>\n",
       "      <td>...</td>\n",
       "      <td>0</td>\n",
       "      <td>1</td>\n",
       "      <td>1.4</td>\n",
       "      <td>93.918</td>\n",
       "      <td>-42.7</td>\n",
       "      <td>4.962</td>\n",
       "      <td>5228.1</td>\n",
       "      <td>-1.0</td>\n",
       "      <td>0</td>\n",
       "      <td>0</td>\n",
       "    </tr>\n",
       "    <tr>\n",
       "      <td>4</td>\n",
       "      <td>40.009804</td>\n",
       "      <td>0</td>\n",
       "      <td>0</td>\n",
       "      <td>6</td>\n",
       "      <td>1</td>\n",
       "      <td>0</td>\n",
       "      <td>0</td>\n",
       "      <td>1</td>\n",
       "      <td>1</td>\n",
       "      <td>0</td>\n",
       "      <td>...</td>\n",
       "      <td>1</td>\n",
       "      <td>0</td>\n",
       "      <td>-1.8</td>\n",
       "      <td>92.893</td>\n",
       "      <td>-46.2</td>\n",
       "      <td>1.291</td>\n",
       "      <td>5099.1</td>\n",
       "      <td>-1.0</td>\n",
       "      <td>1</td>\n",
       "      <td>0</td>\n",
       "    </tr>\n",
       "  </tbody>\n",
       "</table>\n",
       "<p>5 rows × 25 columns</p>\n",
       "</div>"
      ],
      "text/plain": [
       "     custAge  profession  marital  schooling  default_1  default_2  housing_1  \\\n",
       "0  55.000000           0        2          6          1          0          1   \n",
       "1  40.009804           1        1          6          1          0          1   \n",
       "2  42.000000           9        1          3          1          0          1   \n",
       "3  55.000000           4        0          6          1          0          0   \n",
       "4  40.009804           0        0          6          1          0          0   \n",
       "\n",
       "   housing_2  loan_1  loan_2  ...  previous  poutcome  emp.var.rate  \\\n",
       "0          0       1       0  ...         0         1          -0.1   \n",
       "1          0       1       0  ...         0         1           1.4   \n",
       "2          0       1       0  ...         0         1           1.1   \n",
       "3          1       0       1  ...         0         1           1.4   \n",
       "4          1       1       0  ...         1         0          -1.8   \n",
       "\n",
       "   cons.price.idx  cons.conf.idx  euribor3m  nr.employed  pmonths  pastEmail  \\\n",
       "0          93.200          -42.0      4.191       5195.8     -1.0          0   \n",
       "1          93.918          -42.7      4.960       5228.1     -1.0          0   \n",
       "2          93.994          -36.4      4.857       5191.0     -1.0          0   \n",
       "3          93.918          -42.7      4.962       5228.1     -1.0          0   \n",
       "4          92.893          -46.2      1.291       5099.1     -1.0          1   \n",
       "\n",
       "   responded  \n",
       "0          0  \n",
       "1          0  \n",
       "2          0  \n",
       "3          0  \n",
       "4          0  \n",
       "\n",
       "[5 rows x 25 columns]"
      ]
     },
     "execution_count": 25,
     "metadata": {},
     "output_type": "execute_result"
    }
   ],
   "source": [
    "#pdays has value 999 when not contacted before\n",
    "#It is a too high value and impact the analysis, so change it to -1\n",
    "\n",
    "marketing['pdays'].replace(999,-1,inplace=True)\n",
    "marketing['pmonths'].replace(999,-1,inplace=True)\n",
    "\n",
    "marketing.head()"
   ]
  },
  {
   "cell_type": "code",
   "execution_count": 26,
   "metadata": {},
   "outputs": [],
   "source": [
    "# Splitting the data into X and y\n",
    "X = marketing.drop('responded',axis=1)\n",
    "y = marketing['responded']"
   ]
  },
  {
   "cell_type": "markdown",
   "metadata": {},
   "source": [
    "## Standardization on the data"
   ]
  },
  {
   "cell_type": "code",
   "execution_count": 27,
   "metadata": {},
   "outputs": [
    {
     "data": {
      "text/html": [
       "<div>\n",
       "<style scoped>\n",
       "    .dataframe tbody tr th:only-of-type {\n",
       "        vertical-align: middle;\n",
       "    }\n",
       "\n",
       "    .dataframe tbody tr th {\n",
       "        vertical-align: top;\n",
       "    }\n",
       "\n",
       "    .dataframe thead th {\n",
       "        text-align: right;\n",
       "    }\n",
       "</style>\n",
       "<table border=\"1\" class=\"dataframe\">\n",
       "  <thead>\n",
       "    <tr style=\"text-align: right;\">\n",
       "      <th></th>\n",
       "      <th>custAge</th>\n",
       "      <th>profession</th>\n",
       "      <th>marital</th>\n",
       "      <th>schooling</th>\n",
       "      <th>default_1</th>\n",
       "      <th>default_2</th>\n",
       "      <th>housing_1</th>\n",
       "      <th>housing_2</th>\n",
       "      <th>loan_1</th>\n",
       "      <th>loan_2</th>\n",
       "      <th>...</th>\n",
       "      <th>pdays</th>\n",
       "      <th>previous</th>\n",
       "      <th>poutcome</th>\n",
       "      <th>emp.var.rate</th>\n",
       "      <th>cons.price.idx</th>\n",
       "      <th>cons.conf.idx</th>\n",
       "      <th>euribor3m</th>\n",
       "      <th>nr.employed</th>\n",
       "      <th>pmonths</th>\n",
       "      <th>pastEmail</th>\n",
       "    </tr>\n",
       "  </thead>\n",
       "  <tbody>\n",
       "    <tr>\n",
       "      <td>0</td>\n",
       "      <td>1.629770e+00</td>\n",
       "      <td>0</td>\n",
       "      <td>2</td>\n",
       "      <td>6</td>\n",
       "      <td>1</td>\n",
       "      <td>0</td>\n",
       "      <td>1</td>\n",
       "      <td>0</td>\n",
       "      <td>1</td>\n",
       "      <td>0</td>\n",
       "      <td>...</td>\n",
       "      <td>-0.178638</td>\n",
       "      <td>-0.356294</td>\n",
       "      <td>1</td>\n",
       "      <td>-0.096978</td>\n",
       "      <td>-0.641025</td>\n",
       "      <td>-0.309429</td>\n",
       "      <td>0.348394</td>\n",
       "      <td>0.418252</td>\n",
       "      <td>-0.201061</td>\n",
       "      <td>-0.286848</td>\n",
       "    </tr>\n",
       "    <tr>\n",
       "      <td>1</td>\n",
       "      <td>7.725190e-16</td>\n",
       "      <td>1</td>\n",
       "      <td>1</td>\n",
       "      <td>6</td>\n",
       "      <td>1</td>\n",
       "      <td>0</td>\n",
       "      <td>1</td>\n",
       "      <td>0</td>\n",
       "      <td>1</td>\n",
       "      <td>0</td>\n",
       "      <td>...</td>\n",
       "      <td>-0.178638</td>\n",
       "      <td>-0.356294</td>\n",
       "      <td>1</td>\n",
       "      <td>0.859475</td>\n",
       "      <td>0.600533</td>\n",
       "      <td>-0.459983</td>\n",
       "      <td>0.789146</td>\n",
       "      <td>0.860089</td>\n",
       "      <td>-0.201061</td>\n",
       "      <td>-0.286848</td>\n",
       "    </tr>\n",
       "    <tr>\n",
       "      <td>2</td>\n",
       "      <td>2.163789e-01</td>\n",
       "      <td>9</td>\n",
       "      <td>1</td>\n",
       "      <td>3</td>\n",
       "      <td>1</td>\n",
       "      <td>0</td>\n",
       "      <td>1</td>\n",
       "      <td>0</td>\n",
       "      <td>1</td>\n",
       "      <td>0</td>\n",
       "      <td>...</td>\n",
       "      <td>-0.178638</td>\n",
       "      <td>-0.356294</td>\n",
       "      <td>1</td>\n",
       "      <td>0.668184</td>\n",
       "      <td>0.731952</td>\n",
       "      <td>0.895006</td>\n",
       "      <td>0.730111</td>\n",
       "      <td>0.352591</td>\n",
       "      <td>-0.201061</td>\n",
       "      <td>-0.286848</td>\n",
       "    </tr>\n",
       "    <tr>\n",
       "      <td>3</td>\n",
       "      <td>1.629770e+00</td>\n",
       "      <td>4</td>\n",
       "      <td>0</td>\n",
       "      <td>6</td>\n",
       "      <td>1</td>\n",
       "      <td>0</td>\n",
       "      <td>0</td>\n",
       "      <td>1</td>\n",
       "      <td>0</td>\n",
       "      <td>1</td>\n",
       "      <td>...</td>\n",
       "      <td>-0.178638</td>\n",
       "      <td>-0.356294</td>\n",
       "      <td>1</td>\n",
       "      <td>0.859475</td>\n",
       "      <td>0.600533</td>\n",
       "      <td>-0.459983</td>\n",
       "      <td>0.790292</td>\n",
       "      <td>0.860089</td>\n",
       "      <td>-0.201061</td>\n",
       "      <td>-0.286848</td>\n",
       "    </tr>\n",
       "    <tr>\n",
       "      <td>4</td>\n",
       "      <td>7.725190e-16</td>\n",
       "      <td>0</td>\n",
       "      <td>0</td>\n",
       "      <td>6</td>\n",
       "      <td>1</td>\n",
       "      <td>0</td>\n",
       "      <td>0</td>\n",
       "      <td>1</td>\n",
       "      <td>1</td>\n",
       "      <td>0</td>\n",
       "      <td>...</td>\n",
       "      <td>-0.178638</td>\n",
       "      <td>1.578915</td>\n",
       "      <td>0</td>\n",
       "      <td>-1.180959</td>\n",
       "      <td>-1.171886</td>\n",
       "      <td>-1.212754</td>\n",
       "      <td>-1.313738</td>\n",
       "      <td>-0.904526</td>\n",
       "      <td>-0.201061</td>\n",
       "      <td>0.505806</td>\n",
       "    </tr>\n",
       "  </tbody>\n",
       "</table>\n",
       "<p>5 rows × 24 columns</p>\n",
       "</div>"
      ],
      "text/plain": [
       "        custAge  profession  marital  schooling  default_1  default_2  \\\n",
       "0  1.629770e+00           0        2          6          1          0   \n",
       "1  7.725190e-16           1        1          6          1          0   \n",
       "2  2.163789e-01           9        1          3          1          0   \n",
       "3  1.629770e+00           4        0          6          1          0   \n",
       "4  7.725190e-16           0        0          6          1          0   \n",
       "\n",
       "   housing_1  housing_2  loan_1  loan_2  ...     pdays  previous  poutcome  \\\n",
       "0          1          0       1       0  ... -0.178638 -0.356294         1   \n",
       "1          1          0       1       0  ... -0.178638 -0.356294         1   \n",
       "2          1          0       1       0  ... -0.178638 -0.356294         1   \n",
       "3          0          1       0       1  ... -0.178638 -0.356294         1   \n",
       "4          0          1       1       0  ... -0.178638  1.578915         0   \n",
       "\n",
       "   emp.var.rate  cons.price.idx  cons.conf.idx  euribor3m  nr.employed  \\\n",
       "0     -0.096978       -0.641025      -0.309429   0.348394     0.418252   \n",
       "1      0.859475        0.600533      -0.459983   0.789146     0.860089   \n",
       "2      0.668184        0.731952       0.895006   0.730111     0.352591   \n",
       "3      0.859475        0.600533      -0.459983   0.790292     0.860089   \n",
       "4     -1.180959       -1.171886      -1.212754  -1.313738    -0.904526   \n",
       "\n",
       "    pmonths  pastEmail  \n",
       "0 -0.201061  -0.286848  \n",
       "1 -0.201061  -0.286848  \n",
       "2 -0.201061  -0.286848  \n",
       "3 -0.201061  -0.286848  \n",
       "4 -0.201061   0.505806  \n",
       "\n",
       "[5 rows x 24 columns]"
      ]
     },
     "execution_count": 27,
     "metadata": {},
     "output_type": "execute_result"
    }
   ],
   "source": [
    "# Save numeric cols in a variable\n",
    "cnames = ['custAge','campaign','pdays','previous','emp.var.rate','cons.price.idx','cons.conf.idx','euribor3m','nr.employed','pmonths','pastEmail']\n",
    "\n",
    "from sklearn.preprocessing import StandardScaler\n",
    "sc = StandardScaler()\n",
    "for col in cnames:\n",
    "    X[col] = sc.fit_transform(X[col].values.reshape(-1,1))\n",
    "X.head()"
   ]
  },
  {
   "cell_type": "markdown",
   "metadata": {},
   "source": [
    "## Model Development"
   ]
  },
  {
   "cell_type": "code",
   "execution_count": 28,
   "metadata": {},
   "outputs": [],
   "source": [
    "# Splitting the data into train test split\n",
    "from sklearn.model_selection import train_test_split\n",
    "\n",
    "X_train,X_test,y_train,y_test = train_test_split(X,y,test_size=0.2,random_state=0)"
   ]
  },
  {
   "cell_type": "markdown",
   "metadata": {},
   "source": [
    "### Fitting a Logistic Regression Model"
   ]
  },
  {
   "cell_type": "code",
   "execution_count": 29,
   "metadata": {},
   "outputs": [
    {
     "name": "stderr",
     "output_type": "stream",
     "text": [
      "C:\\Users\\Karthik\\Anaconda3\\lib\\site-packages\\sklearn\\linear_model\\_logistic.py:940: ConvergenceWarning: lbfgs failed to converge (status=1):\n",
      "STOP: TOTAL NO. of ITERATIONS REACHED LIMIT.\n",
      "\n",
      "Increase the number of iterations (max_iter) or scale the data as shown in:\n",
      "    https://scikit-learn.org/stable/modules/preprocessing.html\n",
      "Please also refer to the documentation for alternative solver options:\n",
      "    https://scikit-learn.org/stable/modules/linear_model.html#logistic-regression\n",
      "  extra_warning_msg=_LOGISTIC_SOLVER_CONVERGENCE_MSG)\n"
     ]
    }
   ],
   "source": [
    "from sklearn.linear_model import LogisticRegression\n",
    "classifier_log = LogisticRegression()\n",
    "model = classifier_log.fit(X_train,y_train)"
   ]
  },
  {
   "cell_type": "code",
   "execution_count": 30,
   "metadata": {},
   "outputs": [],
   "source": [
    "# Predicting on the test data\n",
    "y_pred_log = classifier_log.predict(X_test)"
   ]
  },
  {
   "cell_type": "code",
   "execution_count": 31,
   "metadata": {},
   "outputs": [
    {
     "name": "stdout",
     "output_type": "stream",
     "text": [
      "91.36884693189481\n"
     ]
    }
   ],
   "source": [
    "# Checking the accuracy of the model\n",
    "from sklearn.metrics import accuracy_score\n",
    "print(accuracy_score(y_test,y_pred_log)*100)"
   ]
  },
  {
   "cell_type": "markdown",
   "metadata": {},
   "source": [
    "### Fitting a Decision Tree Classifier"
   ]
  },
  {
   "cell_type": "code",
   "execution_count": 32,
   "metadata": {},
   "outputs": [],
   "source": [
    "#Using DecisionTreeClassifier of tree class\n",
    "from sklearn.tree import DecisionTreeClassifier\n",
    "classifier_tree = DecisionTreeClassifier()\n",
    "model = classifier_tree.fit(X_train,y_train)"
   ]
  },
  {
   "cell_type": "code",
   "execution_count": 33,
   "metadata": {},
   "outputs": [],
   "source": [
    "# Predicting on the test data\n",
    "y_pred_tree = classifier_tree.predict(X_test)"
   ]
  },
  {
   "cell_type": "code",
   "execution_count": 34,
   "metadata": {},
   "outputs": [
    {
     "name": "stdout",
     "output_type": "stream",
     "text": [
      "84.49089683074848\n"
     ]
    }
   ],
   "source": [
    "# Checking the accuracy\n",
    "print(accuracy_score(y_test,y_pred_tree)*100)"
   ]
  },
  {
   "cell_type": "markdown",
   "metadata": {},
   "source": [
    "### Fitting a Random Forest"
   ]
  },
  {
   "cell_type": "code",
   "execution_count": 35,
   "metadata": {},
   "outputs": [],
   "source": [
    "#Using RandomForestClassifier method of ensemble class\n",
    "\n",
    "from sklearn.ensemble import RandomForestClassifier\n",
    "classifier_forest = RandomForestClassifier(n_estimators=100,criterion='entropy',random_state=0)\n",
    "model = classifier_forest.fit(X_train,y_train)"
   ]
  },
  {
   "cell_type": "code",
   "execution_count": 36,
   "metadata": {},
   "outputs": [],
   "source": [
    "# Predicting on the test data\n",
    "y_pred_forest = classifier_forest.predict(X_test)"
   ]
  },
  {
   "cell_type": "code",
   "execution_count": 37,
   "metadata": {},
   "outputs": [
    {
     "name": "stdout",
     "output_type": "stream",
     "text": [
      "90.22252191503709\n"
     ]
    }
   ],
   "source": [
    "# Checking the accuracy of the model\n",
    "print(accuracy_score(y_test,y_pred_forest)*100)"
   ]
  },
  {
   "cell_type": "markdown",
   "metadata": {},
   "source": [
    "## ROC Curve"
   ]
  },
  {
   "cell_type": "code",
   "execution_count": 38,
   "metadata": {},
   "outputs": [
    {
     "data": {
      "text/plain": [
       "array([[0.99, 0.01],\n",
       "       [1.  , 0.  ],\n",
       "       [0.99, 0.01],\n",
       "       ...,\n",
       "       [0.98, 0.02],\n",
       "       [0.97, 0.03],\n",
       "       [1.  , 0.  ]])"
      ]
     },
     "execution_count": 38,
     "metadata": {},
     "output_type": "execute_result"
    }
   ],
   "source": [
    "probs = classifier_forest.predict_proba(X_test)\n",
    "probs"
   ]
  },
  {
   "cell_type": "code",
   "execution_count": 39,
   "metadata": {},
   "outputs": [
    {
     "name": "stdout",
     "output_type": "stream",
     "text": [
      "Area under the curve: 0.759500097162845\n"
     ]
    }
   ],
   "source": [
    "# Keep Probabilities of the positive class only \n",
    "from sklearn import metrics\n",
    "prob_positive = probs[:,1]\n",
    "fpr,tpr,threshold = metrics.roc_curve(y_test,prob_positive)\n",
    "roc_auc = metrics.auc(fpr,tpr)\n",
    "print('Area under the curve:',roc_auc)"
   ]
  },
  {
   "cell_type": "code",
   "execution_count": 40,
   "metadata": {},
   "outputs": [
    {
     "data": {
      "image/png": "[encoded data removed]",
      "text/plain": [
       "<Figure size 432x288 with 1 Axes>"
      ]
     },
     "metadata": {
      "needs_background": "light"
     },
     "output_type": "display_data"
    }
   ],
   "source": [
    "# Plot ROC Curve\n",
    "plt.title('Receiver Operating Characteristic')\n",
    "plt.plot(fpr,tpr,'orange',label='AUC = %0.2f' % roc_auc)\n",
    "plt.legend(loc = 'lower right')\n",
    "\n",
    "plt.plot([0,1],[0,1], color = 'darkblue', linestyle='--')\n",
    "plt.ylabel('True Positive rate')\n",
    "plt.xlabel('False Positive rate')\n",
    "plt.show()"
   ]
  },
  {
   "cell_type": "markdown",
   "metadata": {},
   "source": [
    "K fold validation will not distribute minority and majority class samples in a appropriate ratio.\n",
    "For imbalanced class problem, we need to divide the samples of minority and majority classes into appropriate ratio in train and test set."
   ]
  },
  {
   "cell_type": "code",
   "execution_count": 41,
   "metadata": {},
   "outputs": [
    {
     "name": "stdout",
     "output_type": "stream",
     "text": [
      "Train: 0=5916, 1=756, Test: 0=658, 1=84\n",
      "Train: 0=5916, 1=756, Test: 0=658, 1=84\n",
      "Train: 0=5916, 1=756, Test: 0=658, 1=84\n",
      "Train: 0=5916, 1=756, Test: 0=658, 1=84\n",
      "Train: 0=5917, 1=756, Test: 0=657, 1=84\n",
      "Train: 0=5917, 1=756, Test: 0=657, 1=84\n",
      "Train: 0=5917, 1=756, Test: 0=657, 1=84\n",
      "Train: 0=5917, 1=756, Test: 0=657, 1=84\n",
      "Train: 0=5917, 1=756, Test: 0=657, 1=84\n",
      "Train: 0=5917, 1=756, Test: 0=657, 1=84\n",
      "\n",
      "Scores from each prediction: [0.898921832884097, 0.8975741239892183, 0.898921832884097, 0.8921832884097035, 0.893387314439946, 0.8893387314439946, 0.8906882591093117, 0.8866396761133604, 0.8974358974358975, 0.8906882591093117]\n",
      "\n",
      "Average k-fold score: 0.8935779215818936\n",
      "\n",
      " AUC from each prediction: [0.7775998697351281, 0.7985146186134028, 0.7266970618034447, 0.7633883340570271, 0.7372436036819598, 0.7270783503660216, 0.7793723273175328, 0.7648401826484018, 0.7811118359063566, 0.7639523084728564]\n",
      "\n",
      "Average stratified k-fold AUC: 0.7619798492602132\n"
     ]
    }
   ],
   "source": [
    "# Statified KFold\n",
    "from sklearn.model_selection import StratifiedKFold\n",
    "\n",
    "strata_kfold = StratifiedKFold(n_splits=10, shuffle=True, random_state=1)\n",
    "\n",
    "scores=[]\n",
    "\n",
    "auc_list = []\n",
    "\n",
    "# enumerate the splits and summarize the distributions\n",
    "for train_ix, test_ix in strata_kfold.split(X, y):\n",
    "    # select rows\n",
    "    train_X, test_X = X.iloc[train_ix], X.iloc[test_ix]\n",
    "    train_y, test_y = y.iloc[train_ix], y.iloc[test_ix]\n",
    "    # summarize train and test composition\n",
    "    train_0, train_1 = len(train_y[train_y==0]), len(train_y[train_y==1])\n",
    "    test_0, test_1 = len(test_y[test_y==0]), len(test_y[test_y==1])\n",
    "    print('Train: 0=%d, 1=%d, Test: 0=%d, 1=%d' % (train_0, train_1, test_0, test_1))\n",
    "    model = classifier_forest.fit(train_X, train_y)\n",
    "    predictions=classifier_forest.predict(test_X)\n",
    "    scores.append(model.score(test_X,test_y))\n",
    "    \n",
    "    #write a code to compute auc for each random sample\n",
    "    probs = classifier_forest.predict_proba(test_X)\n",
    "    prob_positive = probs[:,1]\n",
    "    fpr,tpr,threshold = metrics.roc_curve(test_y,prob_positive)\n",
    "    roc_auc = metrics.auc(fpr,tpr)\n",
    "    \n",
    "    #append auc into the list auc_list\n",
    "    auc_list.append(roc_auc)\n",
    "    \n",
    "print('\\nScores from each prediction:', scores)\n",
    "print('\\nAverage k-fold score:', np.mean(scores))\n",
    "print('\\n AUC from each prediction:',auc_list)\n",
    "print('\\nAverage stratified k-fold AUC:', np.mean(auc_list))"
   ]
  },
  {
   "cell_type": "markdown",
   "metadata": {},
   "source": [
    "## Upsampling to resolve the issue of imbalance class problem"
   ]
  },
  {
   "cell_type": "code",
   "execution_count": 42,
   "metadata": {},
   "outputs": [
    {
     "name": "stdout",
     "output_type": "stream",
     "text": [
      "0    6574\n",
      "1     840\n",
      "Name: responded, dtype: int64\n"
     ]
    }
   ],
   "source": [
    "print(marketing['responded'].value_counts())\n",
    "df_majority = marketing[marketing['responded']==0]\n",
    "df_minority = marketing[marketing['responded']==1]"
   ]
  },
  {
   "cell_type": "code",
   "execution_count": 43,
   "metadata": {},
   "outputs": [],
   "source": [
    "import sklearn.utils as ut\n",
    "# Upsample minority class\n",
    "df_minority_upsampled = ut.resample(df_minority,\n",
    "                                    replace = True, # sample with replacement\n",
    "                                    n_samples=6574, # to match majority class\n",
    "                                   random_state=1)  # reproducible results"
   ]
  },
  {
   "cell_type": "code",
   "execution_count": 44,
   "metadata": {},
   "outputs": [],
   "source": [
    "# Combine majority class with upsampled miniority class\n",
    "df_upsampled = pd.concat([df_majority,df_minority_upsampled])"
   ]
  },
  {
   "cell_type": "code",
   "execution_count": 45,
   "metadata": {},
   "outputs": [
    {
     "data": {
      "text/plain": [
       "1    6574\n",
       "0    6574\n",
       "Name: responded, dtype: int64"
      ]
     },
     "execution_count": 45,
     "metadata": {},
     "output_type": "execute_result"
    }
   ],
   "source": [
    "# Display new class counts\n",
    "df_upsampled['responded'].value_counts()"
   ]
  },
  {
   "cell_type": "code",
   "execution_count": 46,
   "metadata": {},
   "outputs": [
    {
     "data": {
      "text/html": [
       "<div>\n",
       "<style scoped>\n",
       "    .dataframe tbody tr th:only-of-type {\n",
       "        vertical-align: middle;\n",
       "    }\n",
       "\n",
       "    .dataframe tbody tr th {\n",
       "        vertical-align: top;\n",
       "    }\n",
       "\n",
       "    .dataframe thead th {\n",
       "        text-align: right;\n",
       "    }\n",
       "</style>\n",
       "<table border=\"1\" class=\"dataframe\">\n",
       "  <thead>\n",
       "    <tr style=\"text-align: right;\">\n",
       "      <th></th>\n",
       "      <th>custAge</th>\n",
       "      <th>profession</th>\n",
       "      <th>marital</th>\n",
       "      <th>schooling</th>\n",
       "      <th>default_1</th>\n",
       "      <th>default_2</th>\n",
       "      <th>housing_1</th>\n",
       "      <th>housing_2</th>\n",
       "      <th>loan_1</th>\n",
       "      <th>loan_2</th>\n",
       "      <th>...</th>\n",
       "      <th>previous</th>\n",
       "      <th>poutcome</th>\n",
       "      <th>emp.var.rate</th>\n",
       "      <th>cons.price.idx</th>\n",
       "      <th>cons.conf.idx</th>\n",
       "      <th>euribor3m</th>\n",
       "      <th>nr.employed</th>\n",
       "      <th>pmonths</th>\n",
       "      <th>pastEmail</th>\n",
       "      <th>responded</th>\n",
       "    </tr>\n",
       "  </thead>\n",
       "  <tbody>\n",
       "    <tr>\n",
       "      <td>0</td>\n",
       "      <td>55.000000</td>\n",
       "      <td>0</td>\n",
       "      <td>2</td>\n",
       "      <td>6</td>\n",
       "      <td>1</td>\n",
       "      <td>0</td>\n",
       "      <td>1</td>\n",
       "      <td>0</td>\n",
       "      <td>1</td>\n",
       "      <td>0</td>\n",
       "      <td>...</td>\n",
       "      <td>0</td>\n",
       "      <td>1</td>\n",
       "      <td>-0.1</td>\n",
       "      <td>93.200</td>\n",
       "      <td>-42.0</td>\n",
       "      <td>4.191</td>\n",
       "      <td>5195.8</td>\n",
       "      <td>-1.0</td>\n",
       "      <td>0</td>\n",
       "      <td>0</td>\n",
       "    </tr>\n",
       "    <tr>\n",
       "      <td>1</td>\n",
       "      <td>40.009804</td>\n",
       "      <td>1</td>\n",
       "      <td>1</td>\n",
       "      <td>6</td>\n",
       "      <td>1</td>\n",
       "      <td>0</td>\n",
       "      <td>1</td>\n",
       "      <td>0</td>\n",
       "      <td>1</td>\n",
       "      <td>0</td>\n",
       "      <td>...</td>\n",
       "      <td>0</td>\n",
       "      <td>1</td>\n",
       "      <td>1.4</td>\n",
       "      <td>93.918</td>\n",
       "      <td>-42.7</td>\n",
       "      <td>4.960</td>\n",
       "      <td>5228.1</td>\n",
       "      <td>-1.0</td>\n",
       "      <td>0</td>\n",
       "      <td>0</td>\n",
       "    </tr>\n",
       "    <tr>\n",
       "      <td>2</td>\n",
       "      <td>42.000000</td>\n",
       "      <td>9</td>\n",
       "      <td>1</td>\n",
       "      <td>3</td>\n",
       "      <td>1</td>\n",
       "      <td>0</td>\n",
       "      <td>1</td>\n",
       "      <td>0</td>\n",
       "      <td>1</td>\n",
       "      <td>0</td>\n",
       "      <td>...</td>\n",
       "      <td>0</td>\n",
       "      <td>1</td>\n",
       "      <td>1.1</td>\n",
       "      <td>93.994</td>\n",
       "      <td>-36.4</td>\n",
       "      <td>4.857</td>\n",
       "      <td>5191.0</td>\n",
       "      <td>-1.0</td>\n",
       "      <td>0</td>\n",
       "      <td>0</td>\n",
       "    </tr>\n",
       "    <tr>\n",
       "      <td>3</td>\n",
       "      <td>55.000000</td>\n",
       "      <td>4</td>\n",
       "      <td>0</td>\n",
       "      <td>6</td>\n",
       "      <td>1</td>\n",
       "      <td>0</td>\n",
       "      <td>0</td>\n",
       "      <td>1</td>\n",
       "      <td>0</td>\n",
       "      <td>1</td>\n",
       "      <td>...</td>\n",
       "      <td>0</td>\n",
       "      <td>1</td>\n",
       "      <td>1.4</td>\n",
       "      <td>93.918</td>\n",
       "      <td>-42.7</td>\n",
       "      <td>4.962</td>\n",
       "      <td>5228.1</td>\n",
       "      <td>-1.0</td>\n",
       "      <td>0</td>\n",
       "      <td>0</td>\n",
       "    </tr>\n",
       "    <tr>\n",
       "      <td>4</td>\n",
       "      <td>40.009804</td>\n",
       "      <td>0</td>\n",
       "      <td>0</td>\n",
       "      <td>6</td>\n",
       "      <td>1</td>\n",
       "      <td>0</td>\n",
       "      <td>0</td>\n",
       "      <td>1</td>\n",
       "      <td>1</td>\n",
       "      <td>0</td>\n",
       "      <td>...</td>\n",
       "      <td>1</td>\n",
       "      <td>0</td>\n",
       "      <td>-1.8</td>\n",
       "      <td>92.893</td>\n",
       "      <td>-46.2</td>\n",
       "      <td>1.291</td>\n",
       "      <td>5099.1</td>\n",
       "      <td>-1.0</td>\n",
       "      <td>1</td>\n",
       "      <td>0</td>\n",
       "    </tr>\n",
       "  </tbody>\n",
       "</table>\n",
       "<p>5 rows × 25 columns</p>\n",
       "</div>"
      ],
      "text/plain": [
       "     custAge  profession  marital  schooling  default_1  default_2  housing_1  \\\n",
       "0  55.000000           0        2          6          1          0          1   \n",
       "1  40.009804           1        1          6          1          0          1   \n",
       "2  42.000000           9        1          3          1          0          1   \n",
       "3  55.000000           4        0          6          1          0          0   \n",
       "4  40.009804           0        0          6          1          0          0   \n",
       "\n",
       "   housing_2  loan_1  loan_2  ...  previous  poutcome  emp.var.rate  \\\n",
       "0          0       1       0  ...         0         1          -0.1   \n",
       "1          0       1       0  ...         0         1           1.4   \n",
       "2          0       1       0  ...         0         1           1.1   \n",
       "3          1       0       1  ...         0         1           1.4   \n",
       "4          1       1       0  ...         1         0          -1.8   \n",
       "\n",
       "   cons.price.idx  cons.conf.idx  euribor3m  nr.employed  pmonths  pastEmail  \\\n",
       "0          93.200          -42.0      4.191       5195.8     -1.0          0   \n",
       "1          93.918          -42.7      4.960       5228.1     -1.0          0   \n",
       "2          93.994          -36.4      4.857       5191.0     -1.0          0   \n",
       "3          93.918          -42.7      4.962       5228.1     -1.0          0   \n",
       "4          92.893          -46.2      1.291       5099.1     -1.0          1   \n",
       "\n",
       "   responded  \n",
       "0          0  \n",
       "1          0  \n",
       "2          0  \n",
       "3          0  \n",
       "4          0  \n",
       "\n",
       "[5 rows x 25 columns]"
      ]
     },
     "execution_count": 46,
     "metadata": {},
     "output_type": "execute_result"
    }
   ],
   "source": [
    "df_upsampled.head() #Not standardized, only till encoded"
   ]
  },
  {
   "cell_type": "markdown",
   "metadata": {},
   "source": [
    "For upsampling, we took non-standardized data. So, perform standardization now."
   ]
  },
  {
   "cell_type": "code",
   "execution_count": 47,
   "metadata": {},
   "outputs": [],
   "source": [
    "X_upsampled = df_upsampled.drop('responded',axis=1)\n",
    "Y_upsampled = df_upsampled['responded']"
   ]
  },
  {
   "cell_type": "code",
   "execution_count": 48,
   "metadata": {},
   "outputs": [
    {
     "data": {
      "text/html": [
       "<div>\n",
       "<style scoped>\n",
       "    .dataframe tbody tr th:only-of-type {\n",
       "        vertical-align: middle;\n",
       "    }\n",
       "\n",
       "    .dataframe tbody tr th {\n",
       "        vertical-align: top;\n",
       "    }\n",
       "\n",
       "    .dataframe thead th {\n",
       "        text-align: right;\n",
       "    }\n",
       "</style>\n",
       "<table border=\"1\" class=\"dataframe\">\n",
       "  <thead>\n",
       "    <tr style=\"text-align: right;\">\n",
       "      <th></th>\n",
       "      <th>custAge</th>\n",
       "      <th>profession</th>\n",
       "      <th>marital</th>\n",
       "      <th>schooling</th>\n",
       "      <th>default_1</th>\n",
       "      <th>default_2</th>\n",
       "      <th>housing_1</th>\n",
       "      <th>housing_2</th>\n",
       "      <th>loan_1</th>\n",
       "      <th>loan_2</th>\n",
       "      <th>...</th>\n",
       "      <th>pdays</th>\n",
       "      <th>previous</th>\n",
       "      <th>poutcome</th>\n",
       "      <th>emp.var.rate</th>\n",
       "      <th>cons.price.idx</th>\n",
       "      <th>cons.conf.idx</th>\n",
       "      <th>euribor3m</th>\n",
       "      <th>nr.employed</th>\n",
       "      <th>pmonths</th>\n",
       "      <th>pastEmail</th>\n",
       "    </tr>\n",
       "  </thead>\n",
       "  <tbody>\n",
       "    <tr>\n",
       "      <td>0</td>\n",
       "      <td>1.377180</td>\n",
       "      <td>0</td>\n",
       "      <td>2</td>\n",
       "      <td>6</td>\n",
       "      <td>1</td>\n",
       "      <td>0</td>\n",
       "      <td>1</td>\n",
       "      <td>0</td>\n",
       "      <td>1</td>\n",
       "      <td>0</td>\n",
       "      <td>...</td>\n",
       "      <td>-0.325314</td>\n",
       "      <td>-0.453227</td>\n",
       "      <td>1</td>\n",
       "      <td>0.263351</td>\n",
       "      <td>-0.431335</td>\n",
       "      <td>-0.297790</td>\n",
       "      <td>0.690567</td>\n",
       "      <td>0.731752</td>\n",
       "      <td>-0.367893</td>\n",
       "      <td>-0.356188</td>\n",
       "    </tr>\n",
       "    <tr>\n",
       "      <td>1</td>\n",
       "      <td>-0.037966</td>\n",
       "      <td>1</td>\n",
       "      <td>1</td>\n",
       "      <td>6</td>\n",
       "      <td>1</td>\n",
       "      <td>0</td>\n",
       "      <td>1</td>\n",
       "      <td>0</td>\n",
       "      <td>1</td>\n",
       "      <td>0</td>\n",
       "      <td>...</td>\n",
       "      <td>-0.325314</td>\n",
       "      <td>-0.453227</td>\n",
       "      <td>1</td>\n",
       "      <td>1.141928</td>\n",
       "      <td>0.705235</td>\n",
       "      <td>-0.426537</td>\n",
       "      <td>1.098455</td>\n",
       "      <td>1.103462</td>\n",
       "      <td>-0.367893</td>\n",
       "      <td>-0.356188</td>\n",
       "    </tr>\n",
       "    <tr>\n",
       "      <td>2</td>\n",
       "      <td>0.149918</td>\n",
       "      <td>9</td>\n",
       "      <td>1</td>\n",
       "      <td>3</td>\n",
       "      <td>1</td>\n",
       "      <td>0</td>\n",
       "      <td>1</td>\n",
       "      <td>0</td>\n",
       "      <td>1</td>\n",
       "      <td>0</td>\n",
       "      <td>...</td>\n",
       "      <td>-0.325314</td>\n",
       "      <td>-0.453227</td>\n",
       "      <td>1</td>\n",
       "      <td>0.966213</td>\n",
       "      <td>0.825541</td>\n",
       "      <td>0.732185</td>\n",
       "      <td>1.043823</td>\n",
       "      <td>0.676513</td>\n",
       "      <td>-0.367893</td>\n",
       "      <td>-0.356188</td>\n",
       "    </tr>\n",
       "    <tr>\n",
       "      <td>3</td>\n",
       "      <td>1.377180</td>\n",
       "      <td>4</td>\n",
       "      <td>0</td>\n",
       "      <td>6</td>\n",
       "      <td>1</td>\n",
       "      <td>0</td>\n",
       "      <td>0</td>\n",
       "      <td>1</td>\n",
       "      <td>0</td>\n",
       "      <td>1</td>\n",
       "      <td>...</td>\n",
       "      <td>-0.325314</td>\n",
       "      <td>-0.453227</td>\n",
       "      <td>1</td>\n",
       "      <td>1.141928</td>\n",
       "      <td>0.705235</td>\n",
       "      <td>-0.426537</td>\n",
       "      <td>1.099516</td>\n",
       "      <td>1.103462</td>\n",
       "      <td>-0.367893</td>\n",
       "      <td>-0.356188</td>\n",
       "    </tr>\n",
       "    <tr>\n",
       "      <td>4</td>\n",
       "      <td>-0.037966</td>\n",
       "      <td>0</td>\n",
       "      <td>0</td>\n",
       "      <td>6</td>\n",
       "      <td>1</td>\n",
       "      <td>0</td>\n",
       "      <td>0</td>\n",
       "      <td>1</td>\n",
       "      <td>1</td>\n",
       "      <td>0</td>\n",
       "      <td>...</td>\n",
       "      <td>-0.325314</td>\n",
       "      <td>0.946264</td>\n",
       "      <td>0</td>\n",
       "      <td>-0.732371</td>\n",
       "      <td>-0.917306</td>\n",
       "      <td>-1.070271</td>\n",
       "      <td>-0.847633</td>\n",
       "      <td>-0.381078</td>\n",
       "      <td>-0.367893</td>\n",
       "      <td>0.213331</td>\n",
       "    </tr>\n",
       "  </tbody>\n",
       "</table>\n",
       "<p>5 rows × 24 columns</p>\n",
       "</div>"
      ],
      "text/plain": [
       "    custAge  profession  marital  schooling  default_1  default_2  housing_1  \\\n",
       "0  1.377180           0        2          6          1          0          1   \n",
       "1 -0.037966           1        1          6          1          0          1   \n",
       "2  0.149918           9        1          3          1          0          1   \n",
       "3  1.377180           4        0          6          1          0          0   \n",
       "4 -0.037966           0        0          6          1          0          0   \n",
       "\n",
       "   housing_2  loan_1  loan_2  ...     pdays  previous  poutcome  emp.var.rate  \\\n",
       "0          0       1       0  ... -0.325314 -0.453227         1      0.263351   \n",
       "1          0       1       0  ... -0.325314 -0.453227         1      1.141928   \n",
       "2          0       1       0  ... -0.325314 -0.453227         1      0.966213   \n",
       "3          1       0       1  ... -0.325314 -0.453227         1      1.141928   \n",
       "4          1       1       0  ... -0.325314  0.946264         0     -0.732371   \n",
       "\n",
       "   cons.price.idx  cons.conf.idx  euribor3m  nr.employed   pmonths  pastEmail  \n",
       "0       -0.431335      -0.297790   0.690567     0.731752 -0.367893  -0.356188  \n",
       "1        0.705235      -0.426537   1.098455     1.103462 -0.367893  -0.356188  \n",
       "2        0.825541       0.732185   1.043823     0.676513 -0.367893  -0.356188  \n",
       "3        0.705235      -0.426537   1.099516     1.103462 -0.367893  -0.356188  \n",
       "4       -0.917306      -1.070271  -0.847633    -0.381078 -0.367893   0.213331  \n",
       "\n",
       "[5 rows x 24 columns]"
      ]
     },
     "execution_count": 48,
     "metadata": {},
     "output_type": "execute_result"
    }
   ],
   "source": [
    "# Save numerical columns in a list\n",
    "cnames = ['custAge','campaign','pdays','previous','emp.var.rate','cons.price.idx','cons.conf.idx','euribor3m','nr.employed','pmonths','pastEmail']\n",
    "\n",
    "from sklearn.preprocessing import StandardScaler\n",
    "sc = StandardScaler()\n",
    "for col in cnames:\n",
    "    X_upsampled[col] = sc.fit_transform(X_upsampled[col].values.reshape(-1,1))\n",
    "    \n",
    "X_upsampled.head()"
   ]
  },
  {
   "cell_type": "markdown",
   "metadata": {},
   "source": [
    "## Model Development"
   ]
  },
  {
   "cell_type": "code",
   "execution_count": 49,
   "metadata": {},
   "outputs": [],
   "source": [
    "# Splitting the data into train test split\n",
    "from sklearn.model_selection import train_test_split\n",
    "\n",
    "X_train,X_test,y_train,y_test = train_test_split(X_upsampled,Y_upsampled,test_size=0.2,random_state=0)"
   ]
  },
  {
   "cell_type": "markdown",
   "metadata": {},
   "source": [
    "### Fitting a Logistic Regression Model"
   ]
  },
  {
   "cell_type": "code",
   "execution_count": 50,
   "metadata": {},
   "outputs": [
    {
     "name": "stdout",
     "output_type": "stream",
     "text": [
      "73.84030418250951\n"
     ]
    },
    {
     "name": "stderr",
     "output_type": "stream",
     "text": [
      "C:\\Users\\Karthik\\Anaconda3\\lib\\site-packages\\sklearn\\linear_model\\_logistic.py:940: ConvergenceWarning: lbfgs failed to converge (status=1):\n",
      "STOP: TOTAL NO. of ITERATIONS REACHED LIMIT.\n",
      "\n",
      "Increase the number of iterations (max_iter) or scale the data as shown in:\n",
      "    https://scikit-learn.org/stable/modules/preprocessing.html\n",
      "Please also refer to the documentation for alternative solver options:\n",
      "    https://scikit-learn.org/stable/modules/linear_model.html#logistic-regression\n",
      "  extra_warning_msg=_LOGISTIC_SOLVER_CONVERGENCE_MSG)\n"
     ]
    }
   ],
   "source": [
    "from sklearn.linear_model import LogisticRegression\n",
    "classifier_log = LogisticRegression()\n",
    "model = classifier_log.fit(X_train,y_train)\n",
    "\n",
    "# Predicting on the test data\n",
    "y_pred_log = classifier_log.predict(X_test)\n",
    "\n",
    "# Checking the accuracy of the model\n",
    "from sklearn.metrics import accuracy_score\n",
    "print(accuracy_score(y_test,y_pred_log)*100)"
   ]
  },
  {
   "cell_type": "markdown",
   "metadata": {},
   "source": [
    "### Fitting a Decision Tree Classifier\n"
   ]
  },
  {
   "cell_type": "code",
   "execution_count": 51,
   "metadata": {},
   "outputs": [
    {
     "name": "stdout",
     "output_type": "stream",
     "text": [
      "94.63878326996198\n"
     ]
    }
   ],
   "source": [
    "#Using DecisionTreeClassifier of tree class\n",
    "\n",
    "from sklearn.tree import DecisionTreeClassifier\n",
    "classifier_tree = DecisionTreeClassifier()\n",
    "model = classifier_tree.fit(X_train,y_train)\n",
    "\n",
    "# Predicting on the test data\n",
    "y_pred_tree = classifier_tree.predict(X_test)\n",
    "\n",
    "# Checking the accuracy\n",
    "print(accuracy_score(y_test,y_pred_tree)*100)"
   ]
  },
  {
   "cell_type": "markdown",
   "metadata": {},
   "source": [
    "### Fitting a Random Forest\n"
   ]
  },
  {
   "cell_type": "code",
   "execution_count": 52,
   "metadata": {},
   "outputs": [
    {
     "name": "stdout",
     "output_type": "stream",
     "text": [
      "96.95817490494296\n"
     ]
    }
   ],
   "source": [
    "#Using RandomForestClassifier method of ensemble class\n",
    "\n",
    "from sklearn.ensemble import RandomForestClassifier\n",
    "classifier_forest = RandomForestClassifier(n_estimators=100,criterion='entropy',random_state=0)\n",
    "model = classifier_forest.fit(X_train,y_train)\n",
    "\n",
    "# Predicting on the test data\n",
    "y_pred_forest = classifier_forest.predict(X_test)\n",
    "\n",
    "# Checking the accuracy of the model\n",
    "print(accuracy_score(y_test,y_pred_forest)*100)\n"
   ]
  },
  {
   "cell_type": "markdown",
   "metadata": {},
   "source": [
    "## ROC Curve"
   ]
  },
  {
   "cell_type": "code",
   "execution_count": 53,
   "metadata": {},
   "outputs": [
    {
     "name": "stdout",
     "output_type": "stream",
     "text": [
      "Area under the curve: 0.9980085145984388\n"
     ]
    },
    {
     "data": {
      "image/png": "[encoded data removed]",
      "text/plain": [
       "<Figure size 432x288 with 1 Axes>"
      ]
     },
     "metadata": {
      "needs_background": "light"
     },
     "output_type": "display_data"
    }
   ],
   "source": [
    "probs = classifier_forest.predict_proba(X_test)\n",
    "probs\n",
    "\n",
    "# Keep Probabilities of the positive class only \n",
    "from sklearn import metrics\n",
    "prob_positive = probs[:,1]\n",
    "fpr,tpr,threshold = metrics.roc_curve(y_test,prob_positive)\n",
    "roc_auc = metrics.auc(fpr,tpr)\n",
    "print('Area under the curve:',roc_auc)\n",
    "\n",
    "# Plot ROC Curve\n",
    "plt.title('Receiver Operating Characteristic')\n",
    "plt.plot(fpr,tpr,'orange',label='AUC = %0.2f' % roc_auc)\n",
    "plt.legend(loc = 'lower right')\n",
    "\n",
    "plt.plot([0,1],[0,1], color = 'darkblue', linestyle='--')\n",
    "plt.ylabel('True Positive rate')\n",
    "plt.xlabel('False Positive rate')\n",
    "plt.show()"
   ]
  },
  {
   "cell_type": "code",
   "execution_count": null,
   "metadata": {},
   "outputs": [],
   "source": []
  }
 ],
 "metadata": {
  "kernelspec": {
   "display_name": "Python 3",
   "language": "python",
   "name": "python3"
  },
  "language_info": {
   "codemirror_mode": {
    "name": "ipython",
    "version": 3
   },
   "file_extension": ".py",
   "mimetype": "text/x-python",
   "name": "python",
   "nbconvert_exporter": "python",
   "pygments_lexer": "ipython3",
   "version": "3.7.4"
  }
 },
 "nbformat": 4,
 "nbformat_minor": 2
}
